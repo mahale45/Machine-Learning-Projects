{
 "cells": [
  {
   "cell_type": "code",
   "execution_count": 1,
   "id": "56922601",
   "metadata": {},
   "outputs": [],
   "source": [
    "import pandas as pd\n",
    "import numpy as np\n",
    "import seaborn as sns\n",
    "import matplotlib.pyplot as plt\n",
    "import warnings\n",
    "warnings.filterwarnings ('ignore')"
   ]
  },
  {
   "cell_type": "code",
   "execution_count": 2,
   "id": "418b3228",
   "metadata": {},
   "outputs": [
    {
     "data": {
      "text/html": [
       "<div>\n",
       "<style scoped>\n",
       "    .dataframe tbody tr th:only-of-type {\n",
       "        vertical-align: middle;\n",
       "    }\n",
       "\n",
       "    .dataframe tbody tr th {\n",
       "        vertical-align: top;\n",
       "    }\n",
       "\n",
       "    .dataframe thead th {\n",
       "        text-align: right;\n",
       "    }\n",
       "</style>\n",
       "<table border=\"1\" class=\"dataframe\">\n",
       "  <thead>\n",
       "    <tr style=\"text-align: right;\">\n",
       "      <th></th>\n",
       "      <th>id</th>\n",
       "      <th>member_id</th>\n",
       "      <th>loan_amnt</th>\n",
       "      <th>funded_amnt</th>\n",
       "      <th>funded_amnt_inv</th>\n",
       "      <th>term</th>\n",
       "      <th>int_rate</th>\n",
       "      <th>installment</th>\n",
       "      <th>grade</th>\n",
       "      <th>sub_grade</th>\n",
       "      <th>...</th>\n",
       "      <th>num_tl_90g_dpd_24m</th>\n",
       "      <th>num_tl_op_past_12m</th>\n",
       "      <th>pct_tl_nvr_dlq</th>\n",
       "      <th>percent_bc_gt_75</th>\n",
       "      <th>pub_rec_bankruptcies</th>\n",
       "      <th>tax_liens</th>\n",
       "      <th>tot_hi_cred_lim</th>\n",
       "      <th>total_bal_ex_mort</th>\n",
       "      <th>total_bc_limit</th>\n",
       "      <th>total_il_high_credit_limit</th>\n",
       "    </tr>\n",
       "  </thead>\n",
       "  <tbody>\n",
       "    <tr>\n",
       "      <th>0</th>\n",
       "      <td>1077501</td>\n",
       "      <td>1296599</td>\n",
       "      <td>5000</td>\n",
       "      <td>5000</td>\n",
       "      <td>4975.0</td>\n",
       "      <td>36 months</td>\n",
       "      <td>10.65%</td>\n",
       "      <td>162.87</td>\n",
       "      <td>B</td>\n",
       "      <td>B2</td>\n",
       "      <td>...</td>\n",
       "      <td>NaN</td>\n",
       "      <td>NaN</td>\n",
       "      <td>NaN</td>\n",
       "      <td>NaN</td>\n",
       "      <td>0.0</td>\n",
       "      <td>0.0</td>\n",
       "      <td>NaN</td>\n",
       "      <td>NaN</td>\n",
       "      <td>NaN</td>\n",
       "      <td>NaN</td>\n",
       "    </tr>\n",
       "    <tr>\n",
       "      <th>1</th>\n",
       "      <td>1077430</td>\n",
       "      <td>1314167</td>\n",
       "      <td>2500</td>\n",
       "      <td>2500</td>\n",
       "      <td>2500.0</td>\n",
       "      <td>60 months</td>\n",
       "      <td>15.27%</td>\n",
       "      <td>59.83</td>\n",
       "      <td>C</td>\n",
       "      <td>C4</td>\n",
       "      <td>...</td>\n",
       "      <td>NaN</td>\n",
       "      <td>NaN</td>\n",
       "      <td>NaN</td>\n",
       "      <td>NaN</td>\n",
       "      <td>0.0</td>\n",
       "      <td>0.0</td>\n",
       "      <td>NaN</td>\n",
       "      <td>NaN</td>\n",
       "      <td>NaN</td>\n",
       "      <td>NaN</td>\n",
       "    </tr>\n",
       "    <tr>\n",
       "      <th>2</th>\n",
       "      <td>1077175</td>\n",
       "      <td>1313524</td>\n",
       "      <td>2400</td>\n",
       "      <td>2400</td>\n",
       "      <td>2400.0</td>\n",
       "      <td>36 months</td>\n",
       "      <td>15.96%</td>\n",
       "      <td>84.33</td>\n",
       "      <td>C</td>\n",
       "      <td>C5</td>\n",
       "      <td>...</td>\n",
       "      <td>NaN</td>\n",
       "      <td>NaN</td>\n",
       "      <td>NaN</td>\n",
       "      <td>NaN</td>\n",
       "      <td>0.0</td>\n",
       "      <td>0.0</td>\n",
       "      <td>NaN</td>\n",
       "      <td>NaN</td>\n",
       "      <td>NaN</td>\n",
       "      <td>NaN</td>\n",
       "    </tr>\n",
       "    <tr>\n",
       "      <th>3</th>\n",
       "      <td>1076863</td>\n",
       "      <td>1277178</td>\n",
       "      <td>10000</td>\n",
       "      <td>10000</td>\n",
       "      <td>10000.0</td>\n",
       "      <td>36 months</td>\n",
       "      <td>13.49%</td>\n",
       "      <td>339.31</td>\n",
       "      <td>C</td>\n",
       "      <td>C1</td>\n",
       "      <td>...</td>\n",
       "      <td>NaN</td>\n",
       "      <td>NaN</td>\n",
       "      <td>NaN</td>\n",
       "      <td>NaN</td>\n",
       "      <td>0.0</td>\n",
       "      <td>0.0</td>\n",
       "      <td>NaN</td>\n",
       "      <td>NaN</td>\n",
       "      <td>NaN</td>\n",
       "      <td>NaN</td>\n",
       "    </tr>\n",
       "    <tr>\n",
       "      <th>4</th>\n",
       "      <td>1075358</td>\n",
       "      <td>1311748</td>\n",
       "      <td>3000</td>\n",
       "      <td>3000</td>\n",
       "      <td>3000.0</td>\n",
       "      <td>60 months</td>\n",
       "      <td>12.69%</td>\n",
       "      <td>67.79</td>\n",
       "      <td>B</td>\n",
       "      <td>B5</td>\n",
       "      <td>...</td>\n",
       "      <td>NaN</td>\n",
       "      <td>NaN</td>\n",
       "      <td>NaN</td>\n",
       "      <td>NaN</td>\n",
       "      <td>0.0</td>\n",
       "      <td>0.0</td>\n",
       "      <td>NaN</td>\n",
       "      <td>NaN</td>\n",
       "      <td>NaN</td>\n",
       "      <td>NaN</td>\n",
       "    </tr>\n",
       "    <tr>\n",
       "      <th>...</th>\n",
       "      <td>...</td>\n",
       "      <td>...</td>\n",
       "      <td>...</td>\n",
       "      <td>...</td>\n",
       "      <td>...</td>\n",
       "      <td>...</td>\n",
       "      <td>...</td>\n",
       "      <td>...</td>\n",
       "      <td>...</td>\n",
       "      <td>...</td>\n",
       "      <td>...</td>\n",
       "      <td>...</td>\n",
       "      <td>...</td>\n",
       "      <td>...</td>\n",
       "      <td>...</td>\n",
       "      <td>...</td>\n",
       "      <td>...</td>\n",
       "      <td>...</td>\n",
       "      <td>...</td>\n",
       "      <td>...</td>\n",
       "      <td>...</td>\n",
       "    </tr>\n",
       "    <tr>\n",
       "      <th>39712</th>\n",
       "      <td>92187</td>\n",
       "      <td>92174</td>\n",
       "      <td>2500</td>\n",
       "      <td>2500</td>\n",
       "      <td>1075.0</td>\n",
       "      <td>36 months</td>\n",
       "      <td>8.07%</td>\n",
       "      <td>78.42</td>\n",
       "      <td>A</td>\n",
       "      <td>A4</td>\n",
       "      <td>...</td>\n",
       "      <td>NaN</td>\n",
       "      <td>NaN</td>\n",
       "      <td>NaN</td>\n",
       "      <td>NaN</td>\n",
       "      <td>NaN</td>\n",
       "      <td>NaN</td>\n",
       "      <td>NaN</td>\n",
       "      <td>NaN</td>\n",
       "      <td>NaN</td>\n",
       "      <td>NaN</td>\n",
       "    </tr>\n",
       "    <tr>\n",
       "      <th>39713</th>\n",
       "      <td>90665</td>\n",
       "      <td>90607</td>\n",
       "      <td>8500</td>\n",
       "      <td>8500</td>\n",
       "      <td>875.0</td>\n",
       "      <td>36 months</td>\n",
       "      <td>10.28%</td>\n",
       "      <td>275.38</td>\n",
       "      <td>C</td>\n",
       "      <td>C1</td>\n",
       "      <td>...</td>\n",
       "      <td>NaN</td>\n",
       "      <td>NaN</td>\n",
       "      <td>NaN</td>\n",
       "      <td>NaN</td>\n",
       "      <td>NaN</td>\n",
       "      <td>NaN</td>\n",
       "      <td>NaN</td>\n",
       "      <td>NaN</td>\n",
       "      <td>NaN</td>\n",
       "      <td>NaN</td>\n",
       "    </tr>\n",
       "    <tr>\n",
       "      <th>39714</th>\n",
       "      <td>90395</td>\n",
       "      <td>90390</td>\n",
       "      <td>5000</td>\n",
       "      <td>5000</td>\n",
       "      <td>1325.0</td>\n",
       "      <td>36 months</td>\n",
       "      <td>8.07%</td>\n",
       "      <td>156.84</td>\n",
       "      <td>A</td>\n",
       "      <td>A4</td>\n",
       "      <td>...</td>\n",
       "      <td>NaN</td>\n",
       "      <td>NaN</td>\n",
       "      <td>NaN</td>\n",
       "      <td>NaN</td>\n",
       "      <td>NaN</td>\n",
       "      <td>NaN</td>\n",
       "      <td>NaN</td>\n",
       "      <td>NaN</td>\n",
       "      <td>NaN</td>\n",
       "      <td>NaN</td>\n",
       "    </tr>\n",
       "    <tr>\n",
       "      <th>39715</th>\n",
       "      <td>90376</td>\n",
       "      <td>89243</td>\n",
       "      <td>5000</td>\n",
       "      <td>5000</td>\n",
       "      <td>650.0</td>\n",
       "      <td>36 months</td>\n",
       "      <td>7.43%</td>\n",
       "      <td>155.38</td>\n",
       "      <td>A</td>\n",
       "      <td>A2</td>\n",
       "      <td>...</td>\n",
       "      <td>NaN</td>\n",
       "      <td>NaN</td>\n",
       "      <td>NaN</td>\n",
       "      <td>NaN</td>\n",
       "      <td>NaN</td>\n",
       "      <td>NaN</td>\n",
       "      <td>NaN</td>\n",
       "      <td>NaN</td>\n",
       "      <td>NaN</td>\n",
       "      <td>NaN</td>\n",
       "    </tr>\n",
       "    <tr>\n",
       "      <th>39716</th>\n",
       "      <td>87023</td>\n",
       "      <td>86999</td>\n",
       "      <td>7500</td>\n",
       "      <td>7500</td>\n",
       "      <td>800.0</td>\n",
       "      <td>36 months</td>\n",
       "      <td>13.75%</td>\n",
       "      <td>255.43</td>\n",
       "      <td>E</td>\n",
       "      <td>E2</td>\n",
       "      <td>...</td>\n",
       "      <td>NaN</td>\n",
       "      <td>NaN</td>\n",
       "      <td>NaN</td>\n",
       "      <td>NaN</td>\n",
       "      <td>NaN</td>\n",
       "      <td>NaN</td>\n",
       "      <td>NaN</td>\n",
       "      <td>NaN</td>\n",
       "      <td>NaN</td>\n",
       "      <td>NaN</td>\n",
       "    </tr>\n",
       "  </tbody>\n",
       "</table>\n",
       "<p>39717 rows × 111 columns</p>\n",
       "</div>"
      ],
      "text/plain": [
       "            id  member_id  loan_amnt  funded_amnt  funded_amnt_inv  \\\n",
       "0      1077501    1296599       5000         5000           4975.0   \n",
       "1      1077430    1314167       2500         2500           2500.0   \n",
       "2      1077175    1313524       2400         2400           2400.0   \n",
       "3      1076863    1277178      10000        10000          10000.0   \n",
       "4      1075358    1311748       3000         3000           3000.0   \n",
       "...        ...        ...        ...          ...              ...   \n",
       "39712    92187      92174       2500         2500           1075.0   \n",
       "39713    90665      90607       8500         8500            875.0   \n",
       "39714    90395      90390       5000         5000           1325.0   \n",
       "39715    90376      89243       5000         5000            650.0   \n",
       "39716    87023      86999       7500         7500            800.0   \n",
       "\n",
       "             term int_rate  installment grade sub_grade  ...  \\\n",
       "0       36 months   10.65%       162.87     B        B2  ...   \n",
       "1       60 months   15.27%        59.83     C        C4  ...   \n",
       "2       36 months   15.96%        84.33     C        C5  ...   \n",
       "3       36 months   13.49%       339.31     C        C1  ...   \n",
       "4       60 months   12.69%        67.79     B        B5  ...   \n",
       "...           ...      ...          ...   ...       ...  ...   \n",
       "39712   36 months    8.07%        78.42     A        A4  ...   \n",
       "39713   36 months   10.28%       275.38     C        C1  ...   \n",
       "39714   36 months    8.07%       156.84     A        A4  ...   \n",
       "39715   36 months    7.43%       155.38     A        A2  ...   \n",
       "39716   36 months   13.75%       255.43     E        E2  ...   \n",
       "\n",
       "      num_tl_90g_dpd_24m num_tl_op_past_12m pct_tl_nvr_dlq  percent_bc_gt_75  \\\n",
       "0                    NaN                NaN            NaN               NaN   \n",
       "1                    NaN                NaN            NaN               NaN   \n",
       "2                    NaN                NaN            NaN               NaN   \n",
       "3                    NaN                NaN            NaN               NaN   \n",
       "4                    NaN                NaN            NaN               NaN   \n",
       "...                  ...                ...            ...               ...   \n",
       "39712                NaN                NaN            NaN               NaN   \n",
       "39713                NaN                NaN            NaN               NaN   \n",
       "39714                NaN                NaN            NaN               NaN   \n",
       "39715                NaN                NaN            NaN               NaN   \n",
       "39716                NaN                NaN            NaN               NaN   \n",
       "\n",
       "      pub_rec_bankruptcies tax_liens tot_hi_cred_lim total_bal_ex_mort  \\\n",
       "0                      0.0       0.0             NaN               NaN   \n",
       "1                      0.0       0.0             NaN               NaN   \n",
       "2                      0.0       0.0             NaN               NaN   \n",
       "3                      0.0       0.0             NaN               NaN   \n",
       "4                      0.0       0.0             NaN               NaN   \n",
       "...                    ...       ...             ...               ...   \n",
       "39712                  NaN       NaN             NaN               NaN   \n",
       "39713                  NaN       NaN             NaN               NaN   \n",
       "39714                  NaN       NaN             NaN               NaN   \n",
       "39715                  NaN       NaN             NaN               NaN   \n",
       "39716                  NaN       NaN             NaN               NaN   \n",
       "\n",
       "      total_bc_limit total_il_high_credit_limit  \n",
       "0                NaN                        NaN  \n",
       "1                NaN                        NaN  \n",
       "2                NaN                        NaN  \n",
       "3                NaN                        NaN  \n",
       "4                NaN                        NaN  \n",
       "...              ...                        ...  \n",
       "39712            NaN                        NaN  \n",
       "39713            NaN                        NaN  \n",
       "39714            NaN                        NaN  \n",
       "39715            NaN                        NaN  \n",
       "39716            NaN                        NaN  \n",
       "\n",
       "[39717 rows x 111 columns]"
      ]
     },
     "execution_count": 2,
     "metadata": {},
     "output_type": "execute_result"
    }
   ],
   "source": [
    "df=pd.read_csv('loan.csv')\n",
    "df"
   ]
  },
  {
   "cell_type": "code",
   "execution_count": 3,
   "id": "9c38dc81",
   "metadata": {},
   "outputs": [
    {
     "data": {
      "text/html": [
       "<div>\n",
       "<style scoped>\n",
       "    .dataframe tbody tr th:only-of-type {\n",
       "        vertical-align: middle;\n",
       "    }\n",
       "\n",
       "    .dataframe tbody tr th {\n",
       "        vertical-align: top;\n",
       "    }\n",
       "\n",
       "    .dataframe thead th {\n",
       "        text-align: right;\n",
       "    }\n",
       "</style>\n",
       "<table border=\"1\" class=\"dataframe\">\n",
       "  <thead>\n",
       "    <tr style=\"text-align: right;\">\n",
       "      <th></th>\n",
       "      <th>id</th>\n",
       "      <th>member_id</th>\n",
       "      <th>loan_amnt</th>\n",
       "      <th>funded_amnt</th>\n",
       "      <th>funded_amnt_inv</th>\n",
       "      <th>term</th>\n",
       "      <th>int_rate</th>\n",
       "      <th>installment</th>\n",
       "      <th>grade</th>\n",
       "      <th>sub_grade</th>\n",
       "      <th>...</th>\n",
       "      <th>num_tl_90g_dpd_24m</th>\n",
       "      <th>num_tl_op_past_12m</th>\n",
       "      <th>pct_tl_nvr_dlq</th>\n",
       "      <th>percent_bc_gt_75</th>\n",
       "      <th>pub_rec_bankruptcies</th>\n",
       "      <th>tax_liens</th>\n",
       "      <th>tot_hi_cred_lim</th>\n",
       "      <th>total_bal_ex_mort</th>\n",
       "      <th>total_bc_limit</th>\n",
       "      <th>total_il_high_credit_limit</th>\n",
       "    </tr>\n",
       "  </thead>\n",
       "  <tbody>\n",
       "    <tr>\n",
       "      <th>0</th>\n",
       "      <td>1077501</td>\n",
       "      <td>1296599</td>\n",
       "      <td>5000</td>\n",
       "      <td>5000</td>\n",
       "      <td>4975.0</td>\n",
       "      <td>36 months</td>\n",
       "      <td>10.65%</td>\n",
       "      <td>162.87</td>\n",
       "      <td>B</td>\n",
       "      <td>B2</td>\n",
       "      <td>...</td>\n",
       "      <td>NaN</td>\n",
       "      <td>NaN</td>\n",
       "      <td>NaN</td>\n",
       "      <td>NaN</td>\n",
       "      <td>0.0</td>\n",
       "      <td>0.0</td>\n",
       "      <td>NaN</td>\n",
       "      <td>NaN</td>\n",
       "      <td>NaN</td>\n",
       "      <td>NaN</td>\n",
       "    </tr>\n",
       "    <tr>\n",
       "      <th>1</th>\n",
       "      <td>1077430</td>\n",
       "      <td>1314167</td>\n",
       "      <td>2500</td>\n",
       "      <td>2500</td>\n",
       "      <td>2500.0</td>\n",
       "      <td>60 months</td>\n",
       "      <td>15.27%</td>\n",
       "      <td>59.83</td>\n",
       "      <td>C</td>\n",
       "      <td>C4</td>\n",
       "      <td>...</td>\n",
       "      <td>NaN</td>\n",
       "      <td>NaN</td>\n",
       "      <td>NaN</td>\n",
       "      <td>NaN</td>\n",
       "      <td>0.0</td>\n",
       "      <td>0.0</td>\n",
       "      <td>NaN</td>\n",
       "      <td>NaN</td>\n",
       "      <td>NaN</td>\n",
       "      <td>NaN</td>\n",
       "    </tr>\n",
       "    <tr>\n",
       "      <th>2</th>\n",
       "      <td>1077175</td>\n",
       "      <td>1313524</td>\n",
       "      <td>2400</td>\n",
       "      <td>2400</td>\n",
       "      <td>2400.0</td>\n",
       "      <td>36 months</td>\n",
       "      <td>15.96%</td>\n",
       "      <td>84.33</td>\n",
       "      <td>C</td>\n",
       "      <td>C5</td>\n",
       "      <td>...</td>\n",
       "      <td>NaN</td>\n",
       "      <td>NaN</td>\n",
       "      <td>NaN</td>\n",
       "      <td>NaN</td>\n",
       "      <td>0.0</td>\n",
       "      <td>0.0</td>\n",
       "      <td>NaN</td>\n",
       "      <td>NaN</td>\n",
       "      <td>NaN</td>\n",
       "      <td>NaN</td>\n",
       "    </tr>\n",
       "    <tr>\n",
       "      <th>3</th>\n",
       "      <td>1076863</td>\n",
       "      <td>1277178</td>\n",
       "      <td>10000</td>\n",
       "      <td>10000</td>\n",
       "      <td>10000.0</td>\n",
       "      <td>36 months</td>\n",
       "      <td>13.49%</td>\n",
       "      <td>339.31</td>\n",
       "      <td>C</td>\n",
       "      <td>C1</td>\n",
       "      <td>...</td>\n",
       "      <td>NaN</td>\n",
       "      <td>NaN</td>\n",
       "      <td>NaN</td>\n",
       "      <td>NaN</td>\n",
       "      <td>0.0</td>\n",
       "      <td>0.0</td>\n",
       "      <td>NaN</td>\n",
       "      <td>NaN</td>\n",
       "      <td>NaN</td>\n",
       "      <td>NaN</td>\n",
       "    </tr>\n",
       "    <tr>\n",
       "      <th>4</th>\n",
       "      <td>1075358</td>\n",
       "      <td>1311748</td>\n",
       "      <td>3000</td>\n",
       "      <td>3000</td>\n",
       "      <td>3000.0</td>\n",
       "      <td>60 months</td>\n",
       "      <td>12.69%</td>\n",
       "      <td>67.79</td>\n",
       "      <td>B</td>\n",
       "      <td>B5</td>\n",
       "      <td>...</td>\n",
       "      <td>NaN</td>\n",
       "      <td>NaN</td>\n",
       "      <td>NaN</td>\n",
       "      <td>NaN</td>\n",
       "      <td>0.0</td>\n",
       "      <td>0.0</td>\n",
       "      <td>NaN</td>\n",
       "      <td>NaN</td>\n",
       "      <td>NaN</td>\n",
       "      <td>NaN</td>\n",
       "    </tr>\n",
       "  </tbody>\n",
       "</table>\n",
       "<p>5 rows × 111 columns</p>\n",
       "</div>"
      ],
      "text/plain": [
       "        id  member_id  loan_amnt  funded_amnt  funded_amnt_inv        term  \\\n",
       "0  1077501    1296599       5000         5000           4975.0   36 months   \n",
       "1  1077430    1314167       2500         2500           2500.0   60 months   \n",
       "2  1077175    1313524       2400         2400           2400.0   36 months   \n",
       "3  1076863    1277178      10000        10000          10000.0   36 months   \n",
       "4  1075358    1311748       3000         3000           3000.0   60 months   \n",
       "\n",
       "  int_rate  installment grade sub_grade  ... num_tl_90g_dpd_24m  \\\n",
       "0   10.65%       162.87     B        B2  ...                NaN   \n",
       "1   15.27%        59.83     C        C4  ...                NaN   \n",
       "2   15.96%        84.33     C        C5  ...                NaN   \n",
       "3   13.49%       339.31     C        C1  ...                NaN   \n",
       "4   12.69%        67.79     B        B5  ...                NaN   \n",
       "\n",
       "  num_tl_op_past_12m pct_tl_nvr_dlq  percent_bc_gt_75 pub_rec_bankruptcies  \\\n",
       "0                NaN            NaN               NaN                  0.0   \n",
       "1                NaN            NaN               NaN                  0.0   \n",
       "2                NaN            NaN               NaN                  0.0   \n",
       "3                NaN            NaN               NaN                  0.0   \n",
       "4                NaN            NaN               NaN                  0.0   \n",
       "\n",
       "  tax_liens tot_hi_cred_lim total_bal_ex_mort total_bc_limit  \\\n",
       "0       0.0             NaN               NaN            NaN   \n",
       "1       0.0             NaN               NaN            NaN   \n",
       "2       0.0             NaN               NaN            NaN   \n",
       "3       0.0             NaN               NaN            NaN   \n",
       "4       0.0             NaN               NaN            NaN   \n",
       "\n",
       "  total_il_high_credit_limit  \n",
       "0                        NaN  \n",
       "1                        NaN  \n",
       "2                        NaN  \n",
       "3                        NaN  \n",
       "4                        NaN  \n",
       "\n",
       "[5 rows x 111 columns]"
      ]
     },
     "execution_count": 3,
     "metadata": {},
     "output_type": "execute_result"
    }
   ],
   "source": [
    "df.head()"
   ]
  },
  {
   "cell_type": "code",
   "execution_count": 4,
   "id": "81a592ed",
   "metadata": {
    "scrolled": true
   },
   "outputs": [
    {
     "data": {
      "text/html": [
       "<div>\n",
       "<style scoped>\n",
       "    .dataframe tbody tr th:only-of-type {\n",
       "        vertical-align: middle;\n",
       "    }\n",
       "\n",
       "    .dataframe tbody tr th {\n",
       "        vertical-align: top;\n",
       "    }\n",
       "\n",
       "    .dataframe thead th {\n",
       "        text-align: right;\n",
       "    }\n",
       "</style>\n",
       "<table border=\"1\" class=\"dataframe\">\n",
       "  <thead>\n",
       "    <tr style=\"text-align: right;\">\n",
       "      <th></th>\n",
       "      <th>id</th>\n",
       "      <th>member_id</th>\n",
       "      <th>loan_amnt</th>\n",
       "      <th>funded_amnt</th>\n",
       "      <th>funded_amnt_inv</th>\n",
       "      <th>installment</th>\n",
       "      <th>annual_inc</th>\n",
       "      <th>dti</th>\n",
       "      <th>delinq_2yrs</th>\n",
       "      <th>inq_last_6mths</th>\n",
       "      <th>...</th>\n",
       "      <th>num_tl_90g_dpd_24m</th>\n",
       "      <th>num_tl_op_past_12m</th>\n",
       "      <th>pct_tl_nvr_dlq</th>\n",
       "      <th>percent_bc_gt_75</th>\n",
       "      <th>pub_rec_bankruptcies</th>\n",
       "      <th>tax_liens</th>\n",
       "      <th>tot_hi_cred_lim</th>\n",
       "      <th>total_bal_ex_mort</th>\n",
       "      <th>total_bc_limit</th>\n",
       "      <th>total_il_high_credit_limit</th>\n",
       "    </tr>\n",
       "  </thead>\n",
       "  <tbody>\n",
       "    <tr>\n",
       "      <th>count</th>\n",
       "      <td>3.971700e+04</td>\n",
       "      <td>3.971700e+04</td>\n",
       "      <td>39717.000000</td>\n",
       "      <td>39717.000000</td>\n",
       "      <td>39717.000000</td>\n",
       "      <td>39717.000000</td>\n",
       "      <td>3.971700e+04</td>\n",
       "      <td>39717.000000</td>\n",
       "      <td>39717.000000</td>\n",
       "      <td>39717.000000</td>\n",
       "      <td>...</td>\n",
       "      <td>0.0</td>\n",
       "      <td>0.0</td>\n",
       "      <td>0.0</td>\n",
       "      <td>0.0</td>\n",
       "      <td>39020.000000</td>\n",
       "      <td>39678.0</td>\n",
       "      <td>0.0</td>\n",
       "      <td>0.0</td>\n",
       "      <td>0.0</td>\n",
       "      <td>0.0</td>\n",
       "    </tr>\n",
       "    <tr>\n",
       "      <th>mean</th>\n",
       "      <td>6.831319e+05</td>\n",
       "      <td>8.504636e+05</td>\n",
       "      <td>11219.443815</td>\n",
       "      <td>10947.713196</td>\n",
       "      <td>10397.448868</td>\n",
       "      <td>324.561922</td>\n",
       "      <td>6.896893e+04</td>\n",
       "      <td>13.315130</td>\n",
       "      <td>0.146512</td>\n",
       "      <td>0.869200</td>\n",
       "      <td>...</td>\n",
       "      <td>NaN</td>\n",
       "      <td>NaN</td>\n",
       "      <td>NaN</td>\n",
       "      <td>NaN</td>\n",
       "      <td>0.043260</td>\n",
       "      <td>0.0</td>\n",
       "      <td>NaN</td>\n",
       "      <td>NaN</td>\n",
       "      <td>NaN</td>\n",
       "      <td>NaN</td>\n",
       "    </tr>\n",
       "    <tr>\n",
       "      <th>std</th>\n",
       "      <td>2.106941e+05</td>\n",
       "      <td>2.656783e+05</td>\n",
       "      <td>7456.670694</td>\n",
       "      <td>7187.238670</td>\n",
       "      <td>7128.450439</td>\n",
       "      <td>208.874874</td>\n",
       "      <td>6.379377e+04</td>\n",
       "      <td>6.678594</td>\n",
       "      <td>0.491812</td>\n",
       "      <td>1.070219</td>\n",
       "      <td>...</td>\n",
       "      <td>NaN</td>\n",
       "      <td>NaN</td>\n",
       "      <td>NaN</td>\n",
       "      <td>NaN</td>\n",
       "      <td>0.204324</td>\n",
       "      <td>0.0</td>\n",
       "      <td>NaN</td>\n",
       "      <td>NaN</td>\n",
       "      <td>NaN</td>\n",
       "      <td>NaN</td>\n",
       "    </tr>\n",
       "    <tr>\n",
       "      <th>min</th>\n",
       "      <td>5.473400e+04</td>\n",
       "      <td>7.069900e+04</td>\n",
       "      <td>500.000000</td>\n",
       "      <td>500.000000</td>\n",
       "      <td>0.000000</td>\n",
       "      <td>15.690000</td>\n",
       "      <td>4.000000e+03</td>\n",
       "      <td>0.000000</td>\n",
       "      <td>0.000000</td>\n",
       "      <td>0.000000</td>\n",
       "      <td>...</td>\n",
       "      <td>NaN</td>\n",
       "      <td>NaN</td>\n",
       "      <td>NaN</td>\n",
       "      <td>NaN</td>\n",
       "      <td>0.000000</td>\n",
       "      <td>0.0</td>\n",
       "      <td>NaN</td>\n",
       "      <td>NaN</td>\n",
       "      <td>NaN</td>\n",
       "      <td>NaN</td>\n",
       "    </tr>\n",
       "    <tr>\n",
       "      <th>25%</th>\n",
       "      <td>5.162210e+05</td>\n",
       "      <td>6.667800e+05</td>\n",
       "      <td>5500.000000</td>\n",
       "      <td>5400.000000</td>\n",
       "      <td>5000.000000</td>\n",
       "      <td>167.020000</td>\n",
       "      <td>4.040400e+04</td>\n",
       "      <td>8.170000</td>\n",
       "      <td>0.000000</td>\n",
       "      <td>0.000000</td>\n",
       "      <td>...</td>\n",
       "      <td>NaN</td>\n",
       "      <td>NaN</td>\n",
       "      <td>NaN</td>\n",
       "      <td>NaN</td>\n",
       "      <td>0.000000</td>\n",
       "      <td>0.0</td>\n",
       "      <td>NaN</td>\n",
       "      <td>NaN</td>\n",
       "      <td>NaN</td>\n",
       "      <td>NaN</td>\n",
       "    </tr>\n",
       "    <tr>\n",
       "      <th>50%</th>\n",
       "      <td>6.656650e+05</td>\n",
       "      <td>8.508120e+05</td>\n",
       "      <td>10000.000000</td>\n",
       "      <td>9600.000000</td>\n",
       "      <td>8975.000000</td>\n",
       "      <td>280.220000</td>\n",
       "      <td>5.900000e+04</td>\n",
       "      <td>13.400000</td>\n",
       "      <td>0.000000</td>\n",
       "      <td>1.000000</td>\n",
       "      <td>...</td>\n",
       "      <td>NaN</td>\n",
       "      <td>NaN</td>\n",
       "      <td>NaN</td>\n",
       "      <td>NaN</td>\n",
       "      <td>0.000000</td>\n",
       "      <td>0.0</td>\n",
       "      <td>NaN</td>\n",
       "      <td>NaN</td>\n",
       "      <td>NaN</td>\n",
       "      <td>NaN</td>\n",
       "    </tr>\n",
       "    <tr>\n",
       "      <th>75%</th>\n",
       "      <td>8.377550e+05</td>\n",
       "      <td>1.047339e+06</td>\n",
       "      <td>15000.000000</td>\n",
       "      <td>15000.000000</td>\n",
       "      <td>14400.000000</td>\n",
       "      <td>430.780000</td>\n",
       "      <td>8.230000e+04</td>\n",
       "      <td>18.600000</td>\n",
       "      <td>0.000000</td>\n",
       "      <td>1.000000</td>\n",
       "      <td>...</td>\n",
       "      <td>NaN</td>\n",
       "      <td>NaN</td>\n",
       "      <td>NaN</td>\n",
       "      <td>NaN</td>\n",
       "      <td>0.000000</td>\n",
       "      <td>0.0</td>\n",
       "      <td>NaN</td>\n",
       "      <td>NaN</td>\n",
       "      <td>NaN</td>\n",
       "      <td>NaN</td>\n",
       "    </tr>\n",
       "    <tr>\n",
       "      <th>max</th>\n",
       "      <td>1.077501e+06</td>\n",
       "      <td>1.314167e+06</td>\n",
       "      <td>35000.000000</td>\n",
       "      <td>35000.000000</td>\n",
       "      <td>35000.000000</td>\n",
       "      <td>1305.190000</td>\n",
       "      <td>6.000000e+06</td>\n",
       "      <td>29.990000</td>\n",
       "      <td>11.000000</td>\n",
       "      <td>8.000000</td>\n",
       "      <td>...</td>\n",
       "      <td>NaN</td>\n",
       "      <td>NaN</td>\n",
       "      <td>NaN</td>\n",
       "      <td>NaN</td>\n",
       "      <td>2.000000</td>\n",
       "      <td>0.0</td>\n",
       "      <td>NaN</td>\n",
       "      <td>NaN</td>\n",
       "      <td>NaN</td>\n",
       "      <td>NaN</td>\n",
       "    </tr>\n",
       "  </tbody>\n",
       "</table>\n",
       "<p>8 rows × 87 columns</p>\n",
       "</div>"
      ],
      "text/plain": [
       "                 id     member_id     loan_amnt   funded_amnt  \\\n",
       "count  3.971700e+04  3.971700e+04  39717.000000  39717.000000   \n",
       "mean   6.831319e+05  8.504636e+05  11219.443815  10947.713196   \n",
       "std    2.106941e+05  2.656783e+05   7456.670694   7187.238670   \n",
       "min    5.473400e+04  7.069900e+04    500.000000    500.000000   \n",
       "25%    5.162210e+05  6.667800e+05   5500.000000   5400.000000   \n",
       "50%    6.656650e+05  8.508120e+05  10000.000000   9600.000000   \n",
       "75%    8.377550e+05  1.047339e+06  15000.000000  15000.000000   \n",
       "max    1.077501e+06  1.314167e+06  35000.000000  35000.000000   \n",
       "\n",
       "       funded_amnt_inv   installment    annual_inc           dti  \\\n",
       "count     39717.000000  39717.000000  3.971700e+04  39717.000000   \n",
       "mean      10397.448868    324.561922  6.896893e+04     13.315130   \n",
       "std        7128.450439    208.874874  6.379377e+04      6.678594   \n",
       "min           0.000000     15.690000  4.000000e+03      0.000000   \n",
       "25%        5000.000000    167.020000  4.040400e+04      8.170000   \n",
       "50%        8975.000000    280.220000  5.900000e+04     13.400000   \n",
       "75%       14400.000000    430.780000  8.230000e+04     18.600000   \n",
       "max       35000.000000   1305.190000  6.000000e+06     29.990000   \n",
       "\n",
       "        delinq_2yrs  inq_last_6mths  ...  num_tl_90g_dpd_24m  \\\n",
       "count  39717.000000    39717.000000  ...                 0.0   \n",
       "mean       0.146512        0.869200  ...                 NaN   \n",
       "std        0.491812        1.070219  ...                 NaN   \n",
       "min        0.000000        0.000000  ...                 NaN   \n",
       "25%        0.000000        0.000000  ...                 NaN   \n",
       "50%        0.000000        1.000000  ...                 NaN   \n",
       "75%        0.000000        1.000000  ...                 NaN   \n",
       "max       11.000000        8.000000  ...                 NaN   \n",
       "\n",
       "       num_tl_op_past_12m  pct_tl_nvr_dlq  percent_bc_gt_75  \\\n",
       "count                 0.0             0.0               0.0   \n",
       "mean                  NaN             NaN               NaN   \n",
       "std                   NaN             NaN               NaN   \n",
       "min                   NaN             NaN               NaN   \n",
       "25%                   NaN             NaN               NaN   \n",
       "50%                   NaN             NaN               NaN   \n",
       "75%                   NaN             NaN               NaN   \n",
       "max                   NaN             NaN               NaN   \n",
       "\n",
       "       pub_rec_bankruptcies  tax_liens  tot_hi_cred_lim  total_bal_ex_mort  \\\n",
       "count          39020.000000    39678.0              0.0                0.0   \n",
       "mean               0.043260        0.0              NaN                NaN   \n",
       "std                0.204324        0.0              NaN                NaN   \n",
       "min                0.000000        0.0              NaN                NaN   \n",
       "25%                0.000000        0.0              NaN                NaN   \n",
       "50%                0.000000        0.0              NaN                NaN   \n",
       "75%                0.000000        0.0              NaN                NaN   \n",
       "max                2.000000        0.0              NaN                NaN   \n",
       "\n",
       "       total_bc_limit  total_il_high_credit_limit  \n",
       "count             0.0                         0.0  \n",
       "mean              NaN                         NaN  \n",
       "std               NaN                         NaN  \n",
       "min               NaN                         NaN  \n",
       "25%               NaN                         NaN  \n",
       "50%               NaN                         NaN  \n",
       "75%               NaN                         NaN  \n",
       "max               NaN                         NaN  \n",
       "\n",
       "[8 rows x 87 columns]"
      ]
     },
     "execution_count": 4,
     "metadata": {},
     "output_type": "execute_result"
    }
   ],
   "source": [
    "df.describe()"
   ]
  },
  {
   "cell_type": "code",
   "execution_count": 5,
   "id": "e9cec6c1",
   "metadata": {},
   "outputs": [
    {
     "data": {
      "text/plain": [
       "id                                0\n",
       "member_id                         0\n",
       "loan_amnt                         0\n",
       "funded_amnt                       0\n",
       "funded_amnt_inv                   0\n",
       "                              ...  \n",
       "tax_liens                        39\n",
       "tot_hi_cred_lim               39717\n",
       "total_bal_ex_mort             39717\n",
       "total_bc_limit                39717\n",
       "total_il_high_credit_limit    39717\n",
       "Length: 111, dtype: int64"
      ]
     },
     "execution_count": 5,
     "metadata": {},
     "output_type": "execute_result"
    }
   ],
   "source": [
    "df.isnull().sum()"
   ]
  },
  {
   "cell_type": "code",
   "execution_count": 6,
   "id": "fceeb965",
   "metadata": {
    "scrolled": true
   },
   "outputs": [
    {
     "data": {
      "text/plain": [
       "id                              0.000000\n",
       "member_id                       0.000000\n",
       "loan_amnt                       0.000000\n",
       "funded_amnt                     0.000000\n",
       "funded_amnt_inv                 0.000000\n",
       "                                 ...    \n",
       "tax_liens                       0.098195\n",
       "tot_hi_cred_lim               100.000000\n",
       "total_bal_ex_mort             100.000000\n",
       "total_bc_limit                100.000000\n",
       "total_il_high_credit_limit    100.000000\n",
       "Length: 111, dtype: float64"
      ]
     },
     "execution_count": 6,
     "metadata": {},
     "output_type": "execute_result"
    }
   ],
   "source": [
    "df.isnull().sum()/len(df)*100"
   ]
  },
  {
   "cell_type": "code",
   "execution_count": 7,
   "id": "9e52bc91",
   "metadata": {},
   "outputs": [
    {
     "data": {
      "text/plain": [
       "Index(['id', 'member_id', 'loan_amnt', 'funded_amnt', 'funded_amnt_inv',\n",
       "       'term', 'int_rate', 'installment', 'grade', 'sub_grade',\n",
       "       ...\n",
       "       'num_tl_90g_dpd_24m', 'num_tl_op_past_12m', 'pct_tl_nvr_dlq',\n",
       "       'percent_bc_gt_75', 'pub_rec_bankruptcies', 'tax_liens',\n",
       "       'tot_hi_cred_lim', 'total_bal_ex_mort', 'total_bc_limit',\n",
       "       'total_il_high_credit_limit'],\n",
       "      dtype='object', length=111)"
      ]
     },
     "execution_count": 7,
     "metadata": {},
     "output_type": "execute_result"
    }
   ],
   "source": [
    "df.columns"
   ]
  },
  {
   "cell_type": "code",
   "execution_count": 8,
   "id": "0606aff0",
   "metadata": {},
   "outputs": [],
   "source": [
    "df.drop(['id'],axis=1,inplace=True)"
   ]
  },
  {
   "cell_type": "code",
   "execution_count": 9,
   "id": "6abbe508",
   "metadata": {},
   "outputs": [],
   "source": [
    "df.drop(['member_id'],axis=1,inplace=True)"
   ]
  },
  {
   "cell_type": "code",
   "execution_count": 10,
   "id": "78c045f1",
   "metadata": {},
   "outputs": [
    {
     "data": {
      "text/html": [
       "<div>\n",
       "<style scoped>\n",
       "    .dataframe tbody tr th:only-of-type {\n",
       "        vertical-align: middle;\n",
       "    }\n",
       "\n",
       "    .dataframe tbody tr th {\n",
       "        vertical-align: top;\n",
       "    }\n",
       "\n",
       "    .dataframe thead th {\n",
       "        text-align: right;\n",
       "    }\n",
       "</style>\n",
       "<table border=\"1\" class=\"dataframe\">\n",
       "  <thead>\n",
       "    <tr style=\"text-align: right;\">\n",
       "      <th></th>\n",
       "      <th>loan_amnt</th>\n",
       "      <th>funded_amnt</th>\n",
       "      <th>funded_amnt_inv</th>\n",
       "      <th>term</th>\n",
       "      <th>int_rate</th>\n",
       "      <th>installment</th>\n",
       "      <th>grade</th>\n",
       "      <th>sub_grade</th>\n",
       "      <th>emp_title</th>\n",
       "      <th>emp_length</th>\n",
       "      <th>...</th>\n",
       "      <th>num_tl_90g_dpd_24m</th>\n",
       "      <th>num_tl_op_past_12m</th>\n",
       "      <th>pct_tl_nvr_dlq</th>\n",
       "      <th>percent_bc_gt_75</th>\n",
       "      <th>pub_rec_bankruptcies</th>\n",
       "      <th>tax_liens</th>\n",
       "      <th>tot_hi_cred_lim</th>\n",
       "      <th>total_bal_ex_mort</th>\n",
       "      <th>total_bc_limit</th>\n",
       "      <th>total_il_high_credit_limit</th>\n",
       "    </tr>\n",
       "  </thead>\n",
       "  <tbody>\n",
       "    <tr>\n",
       "      <th>0</th>\n",
       "      <td>5000</td>\n",
       "      <td>5000</td>\n",
       "      <td>4975.0</td>\n",
       "      <td>36 months</td>\n",
       "      <td>10.65%</td>\n",
       "      <td>162.87</td>\n",
       "      <td>B</td>\n",
       "      <td>B2</td>\n",
       "      <td>NaN</td>\n",
       "      <td>10+ years</td>\n",
       "      <td>...</td>\n",
       "      <td>NaN</td>\n",
       "      <td>NaN</td>\n",
       "      <td>NaN</td>\n",
       "      <td>NaN</td>\n",
       "      <td>0.0</td>\n",
       "      <td>0.0</td>\n",
       "      <td>NaN</td>\n",
       "      <td>NaN</td>\n",
       "      <td>NaN</td>\n",
       "      <td>NaN</td>\n",
       "    </tr>\n",
       "    <tr>\n",
       "      <th>1</th>\n",
       "      <td>2500</td>\n",
       "      <td>2500</td>\n",
       "      <td>2500.0</td>\n",
       "      <td>60 months</td>\n",
       "      <td>15.27%</td>\n",
       "      <td>59.83</td>\n",
       "      <td>C</td>\n",
       "      <td>C4</td>\n",
       "      <td>Ryder</td>\n",
       "      <td>&lt; 1 year</td>\n",
       "      <td>...</td>\n",
       "      <td>NaN</td>\n",
       "      <td>NaN</td>\n",
       "      <td>NaN</td>\n",
       "      <td>NaN</td>\n",
       "      <td>0.0</td>\n",
       "      <td>0.0</td>\n",
       "      <td>NaN</td>\n",
       "      <td>NaN</td>\n",
       "      <td>NaN</td>\n",
       "      <td>NaN</td>\n",
       "    </tr>\n",
       "    <tr>\n",
       "      <th>2</th>\n",
       "      <td>2400</td>\n",
       "      <td>2400</td>\n",
       "      <td>2400.0</td>\n",
       "      <td>36 months</td>\n",
       "      <td>15.96%</td>\n",
       "      <td>84.33</td>\n",
       "      <td>C</td>\n",
       "      <td>C5</td>\n",
       "      <td>NaN</td>\n",
       "      <td>10+ years</td>\n",
       "      <td>...</td>\n",
       "      <td>NaN</td>\n",
       "      <td>NaN</td>\n",
       "      <td>NaN</td>\n",
       "      <td>NaN</td>\n",
       "      <td>0.0</td>\n",
       "      <td>0.0</td>\n",
       "      <td>NaN</td>\n",
       "      <td>NaN</td>\n",
       "      <td>NaN</td>\n",
       "      <td>NaN</td>\n",
       "    </tr>\n",
       "    <tr>\n",
       "      <th>3</th>\n",
       "      <td>10000</td>\n",
       "      <td>10000</td>\n",
       "      <td>10000.0</td>\n",
       "      <td>36 months</td>\n",
       "      <td>13.49%</td>\n",
       "      <td>339.31</td>\n",
       "      <td>C</td>\n",
       "      <td>C1</td>\n",
       "      <td>AIR RESOURCES BOARD</td>\n",
       "      <td>10+ years</td>\n",
       "      <td>...</td>\n",
       "      <td>NaN</td>\n",
       "      <td>NaN</td>\n",
       "      <td>NaN</td>\n",
       "      <td>NaN</td>\n",
       "      <td>0.0</td>\n",
       "      <td>0.0</td>\n",
       "      <td>NaN</td>\n",
       "      <td>NaN</td>\n",
       "      <td>NaN</td>\n",
       "      <td>NaN</td>\n",
       "    </tr>\n",
       "    <tr>\n",
       "      <th>4</th>\n",
       "      <td>3000</td>\n",
       "      <td>3000</td>\n",
       "      <td>3000.0</td>\n",
       "      <td>60 months</td>\n",
       "      <td>12.69%</td>\n",
       "      <td>67.79</td>\n",
       "      <td>B</td>\n",
       "      <td>B5</td>\n",
       "      <td>University Medical Group</td>\n",
       "      <td>1 year</td>\n",
       "      <td>...</td>\n",
       "      <td>NaN</td>\n",
       "      <td>NaN</td>\n",
       "      <td>NaN</td>\n",
       "      <td>NaN</td>\n",
       "      <td>0.0</td>\n",
       "      <td>0.0</td>\n",
       "      <td>NaN</td>\n",
       "      <td>NaN</td>\n",
       "      <td>NaN</td>\n",
       "      <td>NaN</td>\n",
       "    </tr>\n",
       "  </tbody>\n",
       "</table>\n",
       "<p>5 rows × 109 columns</p>\n",
       "</div>"
      ],
      "text/plain": [
       "   loan_amnt  funded_amnt  funded_amnt_inv        term int_rate  installment  \\\n",
       "0       5000         5000           4975.0   36 months   10.65%       162.87   \n",
       "1       2500         2500           2500.0   60 months   15.27%        59.83   \n",
       "2       2400         2400           2400.0   36 months   15.96%        84.33   \n",
       "3      10000        10000          10000.0   36 months   13.49%       339.31   \n",
       "4       3000         3000           3000.0   60 months   12.69%        67.79   \n",
       "\n",
       "  grade sub_grade                 emp_title emp_length  ...  \\\n",
       "0     B        B2                       NaN  10+ years  ...   \n",
       "1     C        C4                     Ryder   < 1 year  ...   \n",
       "2     C        C5                       NaN  10+ years  ...   \n",
       "3     C        C1       AIR RESOURCES BOARD  10+ years  ...   \n",
       "4     B        B5  University Medical Group     1 year  ...   \n",
       "\n",
       "  num_tl_90g_dpd_24m  num_tl_op_past_12m pct_tl_nvr_dlq percent_bc_gt_75  \\\n",
       "0                NaN                 NaN            NaN              NaN   \n",
       "1                NaN                 NaN            NaN              NaN   \n",
       "2                NaN                 NaN            NaN              NaN   \n",
       "3                NaN                 NaN            NaN              NaN   \n",
       "4                NaN                 NaN            NaN              NaN   \n",
       "\n",
       "  pub_rec_bankruptcies tax_liens tot_hi_cred_lim total_bal_ex_mort  \\\n",
       "0                  0.0       0.0             NaN               NaN   \n",
       "1                  0.0       0.0             NaN               NaN   \n",
       "2                  0.0       0.0             NaN               NaN   \n",
       "3                  0.0       0.0             NaN               NaN   \n",
       "4                  0.0       0.0             NaN               NaN   \n",
       "\n",
       "  total_bc_limit total_il_high_credit_limit  \n",
       "0            NaN                        NaN  \n",
       "1            NaN                        NaN  \n",
       "2            NaN                        NaN  \n",
       "3            NaN                        NaN  \n",
       "4            NaN                        NaN  \n",
       "\n",
       "[5 rows x 109 columns]"
      ]
     },
     "execution_count": 10,
     "metadata": {},
     "output_type": "execute_result"
    }
   ],
   "source": [
    "df.head()"
   ]
  },
  {
   "cell_type": "code",
   "execution_count": 11,
   "id": "c2986503",
   "metadata": {},
   "outputs": [
    {
     "data": {
      "text/plain": [
       "Index(['loan_amnt', 'funded_amnt', 'funded_amnt_inv', 'term', 'int_rate',\n",
       "       'installment', 'grade', 'sub_grade', 'emp_title', 'emp_length',\n",
       "       ...\n",
       "       'num_tl_90g_dpd_24m', 'num_tl_op_past_12m', 'pct_tl_nvr_dlq',\n",
       "       'percent_bc_gt_75', 'pub_rec_bankruptcies', 'tax_liens',\n",
       "       'tot_hi_cred_lim', 'total_bal_ex_mort', 'total_bc_limit',\n",
       "       'total_il_high_credit_limit'],\n",
       "      dtype='object', length=109)"
      ]
     },
     "execution_count": 11,
     "metadata": {},
     "output_type": "execute_result"
    }
   ],
   "source": [
    "df.columns\n"
   ]
  },
  {
   "cell_type": "code",
   "execution_count": 12,
   "id": "a2787a20",
   "metadata": {},
   "outputs": [
    {
     "data": {
      "text/plain": [
       "array([nan])"
      ]
     },
     "execution_count": 12,
     "metadata": {},
     "output_type": "execute_result"
    }
   ],
   "source": [
    "df['tot_hi_cred_lim'].unique()"
   ]
  },
  {
   "cell_type": "code",
   "execution_count": 13,
   "id": "c6649472",
   "metadata": {},
   "outputs": [],
   "source": [
    "df.drop(['tot_hi_cred_lim'],axis=1,inplace=True)"
   ]
  },
  {
   "cell_type": "code",
   "execution_count": 14,
   "id": "82b5307a",
   "metadata": {},
   "outputs": [
    {
     "data": {
      "text/plain": [
       "array([nan])"
      ]
     },
     "execution_count": 14,
     "metadata": {},
     "output_type": "execute_result"
    }
   ],
   "source": [
    "df['total_bal_ex_mort'].unique()"
   ]
  },
  {
   "cell_type": "code",
   "execution_count": 15,
   "id": "7ad5c0b1",
   "metadata": {},
   "outputs": [],
   "source": [
    "df.drop(['total_bal_ex_mort'],axis=1,inplace=True)"
   ]
  },
  {
   "cell_type": "code",
   "execution_count": 16,
   "id": "5d3aea3d",
   "metadata": {},
   "outputs": [],
   "source": [
    "df.drop(['total_bc_limit'],axis=1,inplace=True)"
   ]
  },
  {
   "cell_type": "code",
   "execution_count": 17,
   "id": "02421385",
   "metadata": {},
   "outputs": [],
   "source": [
    "df.drop(['total_il_high_credit_limit'],axis=1,inplace=True)"
   ]
  },
  {
   "cell_type": "code",
   "execution_count": 18,
   "id": "a143144a",
   "metadata": {},
   "outputs": [
    {
     "data": {
      "text/plain": [
       "loan_amnt                   0\n",
       "funded_amnt                 0\n",
       "funded_amnt_inv             0\n",
       "term                        0\n",
       "int_rate                    0\n",
       "                        ...  \n",
       "num_tl_op_past_12m      39717\n",
       "pct_tl_nvr_dlq          39717\n",
       "percent_bc_gt_75        39717\n",
       "pub_rec_bankruptcies      697\n",
       "tax_liens                  39\n",
       "Length: 105, dtype: int64"
      ]
     },
     "execution_count": 18,
     "metadata": {},
     "output_type": "execute_result"
    }
   ],
   "source": [
    "df.isnull().sum()"
   ]
  },
  {
   "cell_type": "code",
   "execution_count": 19,
   "id": "6446947d",
   "metadata": {},
   "outputs": [
    {
     "data": {
      "text/plain": [
       "loan_amnt                 0.000000\n",
       "funded_amnt               0.000000\n",
       "funded_amnt_inv           0.000000\n",
       "term                      0.000000\n",
       "int_rate                  0.000000\n",
       "                           ...    \n",
       "num_tl_op_past_12m      100.000000\n",
       "pct_tl_nvr_dlq          100.000000\n",
       "percent_bc_gt_75        100.000000\n",
       "pub_rec_bankruptcies      1.754916\n",
       "tax_liens                 0.098195\n",
       "Length: 105, dtype: float64"
      ]
     },
     "execution_count": 19,
     "metadata": {},
     "output_type": "execute_result"
    }
   ],
   "source": [
    "df.isnull().sum()/len(df)*100"
   ]
  },
  {
   "cell_type": "code",
   "execution_count": 20,
   "id": "d9bbf6e8",
   "metadata": {},
   "outputs": [],
   "source": [
    "df.drop(['num_tl_op_past_12m'],axis=1,inplace=True)"
   ]
  },
  {
   "cell_type": "code",
   "execution_count": 21,
   "id": "b00f8aa8",
   "metadata": {},
   "outputs": [],
   "source": [
    "df.drop(['pct_tl_nvr_dlq'],axis=1,inplace=True)"
   ]
  },
  {
   "cell_type": "code",
   "execution_count": 22,
   "id": "5870076c",
   "metadata": {},
   "outputs": [],
   "source": [
    "df.drop(['percent_bc_gt_75'],axis=1,inplace=True)"
   ]
  },
  {
   "cell_type": "code",
   "execution_count": 23,
   "id": "ffa6827b",
   "metadata": {},
   "outputs": [
    {
     "data": {
      "text/plain": [
       "loan_amnt                 0.000000\n",
       "funded_amnt               0.000000\n",
       "funded_amnt_inv           0.000000\n",
       "term                      0.000000\n",
       "int_rate                  0.000000\n",
       "                           ...    \n",
       "num_tl_120dpd_2m        100.000000\n",
       "num_tl_30dpd            100.000000\n",
       "num_tl_90g_dpd_24m      100.000000\n",
       "pub_rec_bankruptcies      1.754916\n",
       "tax_liens                 0.098195\n",
       "Length: 102, dtype: float64"
      ]
     },
     "execution_count": 23,
     "metadata": {},
     "output_type": "execute_result"
    }
   ],
   "source": [
    "df.isnull().sum()/len(df)*100"
   ]
  },
  {
   "cell_type": "code",
   "execution_count": 24,
   "id": "e2c544a3",
   "metadata": {},
   "outputs": [],
   "source": [
    "df.drop(['num_tl_120dpd_2m'],axis=1,inplace=True)"
   ]
  },
  {
   "cell_type": "code",
   "execution_count": 25,
   "id": "a81eff93",
   "metadata": {},
   "outputs": [],
   "source": [
    "df.drop(['num_tl_30dpd'],axis=1,inplace=True)"
   ]
  },
  {
   "cell_type": "code",
   "execution_count": 26,
   "id": "6af0cb89",
   "metadata": {},
   "outputs": [],
   "source": [
    "df.drop(['num_tl_90g_dpd_24m'],axis=1,inplace=True)"
   ]
  },
  {
   "cell_type": "code",
   "execution_count": 27,
   "id": "09f60ce1",
   "metadata": {},
   "outputs": [
    {
     "data": {
      "text/plain": [
       "loan_amnt                 0.000000\n",
       "funded_amnt               0.000000\n",
       "funded_amnt_inv           0.000000\n",
       "term                      0.000000\n",
       "int_rate                  0.000000\n",
       "                           ...    \n",
       "num_rev_accts           100.000000\n",
       "num_rev_tl_bal_gt_0     100.000000\n",
       "num_sats                100.000000\n",
       "pub_rec_bankruptcies      1.754916\n",
       "tax_liens                 0.098195\n",
       "Length: 99, dtype: float64"
      ]
     },
     "execution_count": 27,
     "metadata": {},
     "output_type": "execute_result"
    }
   ],
   "source": [
    "df.isnull().sum()/len(df)*100"
   ]
  },
  {
   "cell_type": "code",
   "execution_count": 28,
   "id": "31d769b5",
   "metadata": {},
   "outputs": [],
   "source": [
    "df.drop(['num_rev_accts'],axis=1,inplace=True)"
   ]
  },
  {
   "cell_type": "code",
   "execution_count": 29,
   "id": "392b912f",
   "metadata": {},
   "outputs": [],
   "source": [
    "df.drop(['num_rev_tl_bal_gt_0'],axis=1,inplace=True)"
   ]
  },
  {
   "cell_type": "code",
   "execution_count": 30,
   "id": "2b72708d",
   "metadata": {},
   "outputs": [],
   "source": [
    "df.drop(['num_sats'],axis=1,inplace=True)"
   ]
  },
  {
   "cell_type": "code",
   "execution_count": 31,
   "id": "5d7137d1",
   "metadata": {},
   "outputs": [
    {
     "data": {
      "text/plain": [
       "loan_amnt                 0.000000\n",
       "funded_amnt               0.000000\n",
       "funded_amnt_inv           0.000000\n",
       "term                      0.000000\n",
       "int_rate                  0.000000\n",
       "                           ...    \n",
       "num_bc_tl               100.000000\n",
       "num_il_tl               100.000000\n",
       "num_op_rev_tl           100.000000\n",
       "pub_rec_bankruptcies      1.754916\n",
       "tax_liens                 0.098195\n",
       "Length: 96, dtype: float64"
      ]
     },
     "execution_count": 31,
     "metadata": {},
     "output_type": "execute_result"
    }
   ],
   "source": [
    "df.isnull().sum()/len(df)*100"
   ]
  },
  {
   "cell_type": "code",
   "execution_count": 32,
   "id": "a1054989",
   "metadata": {},
   "outputs": [],
   "source": [
    "df.drop(['num_bc_tl'],axis=1,inplace=True)"
   ]
  },
  {
   "cell_type": "code",
   "execution_count": 33,
   "id": "9a225f20",
   "metadata": {},
   "outputs": [],
   "source": [
    "df.drop(['num_il_tl'],axis=1,inplace=True)"
   ]
  },
  {
   "cell_type": "code",
   "execution_count": 34,
   "id": "29342f18",
   "metadata": {},
   "outputs": [],
   "source": [
    "df.drop(['num_op_rev_tl'],axis=1,inplace=True)"
   ]
  },
  {
   "cell_type": "code",
   "execution_count": 35,
   "id": "3e1db58e",
   "metadata": {},
   "outputs": [
    {
     "data": {
      "text/plain": [
       "loan_amnt                 0.000000\n",
       "funded_amnt               0.000000\n",
       "funded_amnt_inv           0.000000\n",
       "term                      0.000000\n",
       "int_rate                  0.000000\n",
       "                           ...    \n",
       "num_actv_bc_tl          100.000000\n",
       "num_actv_rev_tl         100.000000\n",
       "num_bc_sats             100.000000\n",
       "pub_rec_bankruptcies      1.754916\n",
       "tax_liens                 0.098195\n",
       "Length: 93, dtype: float64"
      ]
     },
     "execution_count": 35,
     "metadata": {},
     "output_type": "execute_result"
    }
   ],
   "source": [
    "df.isnull().sum()/len(df)*100"
   ]
  },
  {
   "cell_type": "code",
   "execution_count": 36,
   "id": "d369b954",
   "metadata": {},
   "outputs": [],
   "source": [
    "df.drop(['num_actv_bc_tl'],axis=1,inplace=True)"
   ]
  },
  {
   "cell_type": "code",
   "execution_count": 37,
   "id": "4a2992f1",
   "metadata": {},
   "outputs": [],
   "source": [
    "df.drop(['num_actv_rev_tl'],axis=1,inplace=True)"
   ]
  },
  {
   "cell_type": "code",
   "execution_count": 38,
   "id": "10715ca4",
   "metadata": {},
   "outputs": [],
   "source": [
    "df.drop(['num_bc_sats'],axis=1,inplace=True)"
   ]
  },
  {
   "cell_type": "code",
   "execution_count": 39,
   "id": "0eec38f3",
   "metadata": {},
   "outputs": [
    {
     "data": {
      "text/plain": [
       "loan_amnt                           0.000000\n",
       "funded_amnt                         0.000000\n",
       "funded_amnt_inv                     0.000000\n",
       "term                                0.000000\n",
       "int_rate                            0.000000\n",
       "                                     ...    \n",
       "mths_since_recent_inq             100.000000\n",
       "mths_since_recent_revol_delinq    100.000000\n",
       "num_accts_ever_120_pd             100.000000\n",
       "pub_rec_bankruptcies                1.754916\n",
       "tax_liens                           0.098195\n",
       "Length: 90, dtype: float64"
      ]
     },
     "execution_count": 39,
     "metadata": {},
     "output_type": "execute_result"
    }
   ],
   "source": [
    "df.isnull().sum()/len(df)*100"
   ]
  },
  {
   "cell_type": "code",
   "execution_count": 40,
   "id": "9fa026d6",
   "metadata": {},
   "outputs": [],
   "source": [
    "df.drop(['mths_since_recent_inq'],axis=1,inplace=True)"
   ]
  },
  {
   "cell_type": "code",
   "execution_count": 41,
   "id": "35d2acd0",
   "metadata": {},
   "outputs": [],
   "source": [
    "df.drop(['mths_since_recent_revol_delinq'],axis=1,inplace=True)"
   ]
  },
  {
   "cell_type": "code",
   "execution_count": 42,
   "id": "21854c2f",
   "metadata": {},
   "outputs": [],
   "source": [
    "df.drop(['num_accts_ever_120_pd'],axis=1,inplace=True)"
   ]
  },
  {
   "cell_type": "code",
   "execution_count": 43,
   "id": "d56ea290",
   "metadata": {},
   "outputs": [
    {
     "data": {
      "text/plain": [
       "loan_amnt                     0.000000\n",
       "funded_amnt                   0.000000\n",
       "funded_amnt_inv               0.000000\n",
       "term                          0.000000\n",
       "int_rate                      0.000000\n",
       "                               ...    \n",
       "mort_acc                    100.000000\n",
       "mths_since_recent_bc        100.000000\n",
       "mths_since_recent_bc_dlq    100.000000\n",
       "pub_rec_bankruptcies          1.754916\n",
       "tax_liens                     0.098195\n",
       "Length: 87, dtype: float64"
      ]
     },
     "execution_count": 43,
     "metadata": {},
     "output_type": "execute_result"
    }
   ],
   "source": [
    "df.isnull().sum()/len(df)*100"
   ]
  },
  {
   "cell_type": "code",
   "execution_count": 44,
   "id": "ebd2773b",
   "metadata": {},
   "outputs": [],
   "source": [
    "df.drop(['mths_since_recent_bc'],axis=1,inplace=True)"
   ]
  },
  {
   "cell_type": "code",
   "execution_count": 45,
   "id": "d8cdab13",
   "metadata": {},
   "outputs": [],
   "source": [
    "df.drop(['mort_acc'],axis=1,inplace=True)"
   ]
  },
  {
   "cell_type": "code",
   "execution_count": 46,
   "id": "9311c78b",
   "metadata": {},
   "outputs": [],
   "source": [
    "df.drop(['mths_since_recent_bc_dlq'],axis=1,inplace=True)"
   ]
  },
  {
   "cell_type": "code",
   "execution_count": 47,
   "id": "d45af6f3",
   "metadata": {},
   "outputs": [
    {
     "data": {
      "text/plain": [
       "loan_amnt                  0.000000\n",
       "funded_amnt                0.000000\n",
       "funded_amnt_inv            0.000000\n",
       "term                       0.000000\n",
       "int_rate                   0.000000\n",
       "                            ...    \n",
       "mo_sin_old_rev_tl_op     100.000000\n",
       "mo_sin_rcnt_rev_tl_op    100.000000\n",
       "mo_sin_rcnt_tl           100.000000\n",
       "pub_rec_bankruptcies       1.754916\n",
       "tax_liens                  0.098195\n",
       "Length: 84, dtype: float64"
      ]
     },
     "execution_count": 47,
     "metadata": {},
     "output_type": "execute_result"
    }
   ],
   "source": [
    "df.isnull().sum()/len(df)*100"
   ]
  },
  {
   "cell_type": "code",
   "execution_count": 48,
   "id": "416b93ae",
   "metadata": {},
   "outputs": [
    {
     "data": {
      "text/plain": [
       "loan_amnt                  0.000000\n",
       "funded_amnt                0.000000\n",
       "funded_amnt_inv            0.000000\n",
       "term                       0.000000\n",
       "int_rate                   0.000000\n",
       "                            ...    \n",
       "mo_sin_old_rev_tl_op     100.000000\n",
       "mo_sin_rcnt_rev_tl_op    100.000000\n",
       "mo_sin_rcnt_tl           100.000000\n",
       "pub_rec_bankruptcies       1.754916\n",
       "tax_liens                  0.098195\n",
       "Length: 84, dtype: float64"
      ]
     },
     "execution_count": 48,
     "metadata": {},
     "output_type": "execute_result"
    }
   ],
   "source": [
    "df.isnull().sum()/len(df)*100"
   ]
  },
  {
   "cell_type": "code",
   "execution_count": 49,
   "id": "70791449",
   "metadata": {},
   "outputs": [],
   "source": [
    "df.drop(['mo_sin_old_il_acct'],axis=1,inplace=True)"
   ]
  },
  {
   "cell_type": "code",
   "execution_count": 50,
   "id": "49e84525",
   "metadata": {},
   "outputs": [],
   "source": [
    "df.drop(['mo_sin_old_rev_tl_op'],axis=1,inplace=True)"
   ]
  },
  {
   "cell_type": "code",
   "execution_count": 51,
   "id": "e43bb38c",
   "metadata": {},
   "outputs": [],
   "source": [
    "df.drop(['mo_sin_rcnt_rev_tl_op'],axis=1,inplace=True)"
   ]
  },
  {
   "cell_type": "code",
   "execution_count": 52,
   "id": "390cf2d2",
   "metadata": {},
   "outputs": [
    {
     "data": {
      "text/plain": [
       "loan_amnt                     0.000000\n",
       "funded_amnt                   0.000000\n",
       "funded_amnt_inv               0.000000\n",
       "term                          0.000000\n",
       "int_rate                      0.000000\n",
       "                               ...    \n",
       "chargeoff_within_12_mths      0.140998\n",
       "delinq_amnt                   0.000000\n",
       "mo_sin_rcnt_tl              100.000000\n",
       "pub_rec_bankruptcies          1.754916\n",
       "tax_liens                     0.098195\n",
       "Length: 81, dtype: float64"
      ]
     },
     "execution_count": 52,
     "metadata": {},
     "output_type": "execute_result"
    }
   ],
   "source": [
    "df.isnull().sum()/len(df)*100"
   ]
  },
  {
   "cell_type": "code",
   "execution_count": 53,
   "id": "50d22e22",
   "metadata": {},
   "outputs": [
    {
     "data": {
      "text/plain": [
       "loan_amnt                     0.000000\n",
       "funded_amnt                   0.000000\n",
       "funded_amnt_inv               0.000000\n",
       "term                          0.000000\n",
       "int_rate                      0.000000\n",
       "                               ...    \n",
       "chargeoff_within_12_mths      0.140998\n",
       "delinq_amnt                   0.000000\n",
       "mo_sin_rcnt_tl              100.000000\n",
       "pub_rec_bankruptcies          1.754916\n",
       "tax_liens                     0.098195\n",
       "Length: 81, dtype: float64"
      ]
     },
     "execution_count": 53,
     "metadata": {},
     "output_type": "execute_result"
    }
   ],
   "source": [
    "df.isnull().sum()/len(df)*100"
   ]
  },
  {
   "cell_type": "code",
   "execution_count": 54,
   "id": "aa6c47c4",
   "metadata": {},
   "outputs": [],
   "source": [
    "df.drop(['bc_util'],axis=1,inplace=True)"
   ]
  },
  {
   "cell_type": "code",
   "execution_count": 55,
   "id": "42da83e6",
   "metadata": {},
   "outputs": [
    {
     "data": {
      "text/plain": [
       "loan_amnt                     0.000000\n",
       "funded_amnt                   0.000000\n",
       "funded_amnt_inv               0.000000\n",
       "term                          0.000000\n",
       "int_rate                      0.000000\n",
       "                               ...    \n",
       "chargeoff_within_12_mths      0.140998\n",
       "delinq_amnt                   0.000000\n",
       "mo_sin_rcnt_tl              100.000000\n",
       "pub_rec_bankruptcies          1.754916\n",
       "tax_liens                     0.098195\n",
       "Length: 80, dtype: float64"
      ]
     },
     "execution_count": 55,
     "metadata": {},
     "output_type": "execute_result"
    }
   ],
   "source": [
    "df.isnull().sum()/len(df)*100"
   ]
  },
  {
   "cell_type": "code",
   "execution_count": 56,
   "id": "1b7a9378",
   "metadata": {},
   "outputs": [],
   "source": [
    "df.drop(['bc_open_to_buy'],axis=1,inplace=True)"
   ]
  },
  {
   "cell_type": "code",
   "execution_count": 57,
   "id": "5216eb4a",
   "metadata": {},
   "outputs": [
    {
     "data": {
      "text/plain": [
       "loan_amnt                     0.000000\n",
       "funded_amnt                   0.000000\n",
       "funded_amnt_inv               0.000000\n",
       "term                          0.000000\n",
       "int_rate                      0.000000\n",
       "                               ...    \n",
       "chargeoff_within_12_mths      0.140998\n",
       "delinq_amnt                   0.000000\n",
       "mo_sin_rcnt_tl              100.000000\n",
       "pub_rec_bankruptcies          1.754916\n",
       "tax_liens                     0.098195\n",
       "Length: 79, dtype: float64"
      ]
     },
     "execution_count": 57,
     "metadata": {},
     "output_type": "execute_result"
    }
   ],
   "source": [
    "df.isnull().sum()/len(df)*100"
   ]
  },
  {
   "cell_type": "code",
   "execution_count": 58,
   "id": "689dd572",
   "metadata": {},
   "outputs": [],
   "source": [
    "df.drop(['avg_cur_bal'],axis=1,inplace=True)"
   ]
  },
  {
   "cell_type": "code",
   "execution_count": 59,
   "id": "f7469e04",
   "metadata": {},
   "outputs": [
    {
     "data": {
      "text/plain": [
       "loan_amnt                     0.000000\n",
       "funded_amnt                   0.000000\n",
       "funded_amnt_inv               0.000000\n",
       "term                          0.000000\n",
       "int_rate                      0.000000\n",
       "                               ...    \n",
       "chargeoff_within_12_mths      0.140998\n",
       "delinq_amnt                   0.000000\n",
       "mo_sin_rcnt_tl              100.000000\n",
       "pub_rec_bankruptcies          1.754916\n",
       "tax_liens                     0.098195\n",
       "Length: 78, dtype: float64"
      ]
     },
     "execution_count": 59,
     "metadata": {},
     "output_type": "execute_result"
    }
   ],
   "source": [
    "df.isnull().sum()/len(df)*100"
   ]
  },
  {
   "cell_type": "code",
   "execution_count": 60,
   "id": "c215b2c5",
   "metadata": {},
   "outputs": [],
   "source": [
    "df.drop(['acc_open_past_24mths'],axis=1,inplace=True)"
   ]
  },
  {
   "cell_type": "code",
   "execution_count": 61,
   "id": "432c899d",
   "metadata": {},
   "outputs": [
    {
     "data": {
      "text/plain": [
       "loan_amnt                     0.000000\n",
       "funded_amnt                   0.000000\n",
       "funded_amnt_inv               0.000000\n",
       "term                          0.000000\n",
       "int_rate                      0.000000\n",
       "                               ...    \n",
       "chargeoff_within_12_mths      0.140998\n",
       "delinq_amnt                   0.000000\n",
       "mo_sin_rcnt_tl              100.000000\n",
       "pub_rec_bankruptcies          1.754916\n",
       "tax_liens                     0.098195\n",
       "Length: 77, dtype: float64"
      ]
     },
     "execution_count": 61,
     "metadata": {},
     "output_type": "execute_result"
    }
   ],
   "source": [
    "df.isnull().sum()/len(df)*100"
   ]
  },
  {
   "cell_type": "code",
   "execution_count": 62,
   "id": "faf5935a",
   "metadata": {},
   "outputs": [],
   "source": [
    "df.drop(['inq_last_12m'],axis=1,inplace=True)"
   ]
  },
  {
   "cell_type": "code",
   "execution_count": 63,
   "id": "ef4d2617",
   "metadata": {},
   "outputs": [
    {
     "data": {
      "text/plain": [
       "loan_amnt                     0.000000\n",
       "funded_amnt                   0.000000\n",
       "funded_amnt_inv               0.000000\n",
       "term                          0.000000\n",
       "int_rate                      0.000000\n",
       "                               ...    \n",
       "chargeoff_within_12_mths      0.140998\n",
       "delinq_amnt                   0.000000\n",
       "mo_sin_rcnt_tl              100.000000\n",
       "pub_rec_bankruptcies          1.754916\n",
       "tax_liens                     0.098195\n",
       "Length: 76, dtype: float64"
      ]
     },
     "execution_count": 63,
     "metadata": {},
     "output_type": "execute_result"
    }
   ],
   "source": [
    "df.isnull().sum()/len(df)*100"
   ]
  },
  {
   "cell_type": "code",
   "execution_count": 64,
   "id": "02de637b",
   "metadata": {},
   "outputs": [],
   "source": [
    "df.drop(['total_cu_tl'],axis=1,inplace=True)"
   ]
  },
  {
   "cell_type": "code",
   "execution_count": 65,
   "id": "57eb3525",
   "metadata": {},
   "outputs": [
    {
     "data": {
      "text/plain": [
       "loan_amnt                     0.000000\n",
       "funded_amnt                   0.000000\n",
       "funded_amnt_inv               0.000000\n",
       "term                          0.000000\n",
       "int_rate                      0.000000\n",
       "                               ...    \n",
       "chargeoff_within_12_mths      0.140998\n",
       "delinq_amnt                   0.000000\n",
       "mo_sin_rcnt_tl              100.000000\n",
       "pub_rec_bankruptcies          1.754916\n",
       "tax_liens                     0.098195\n",
       "Length: 75, dtype: float64"
      ]
     },
     "execution_count": 65,
     "metadata": {},
     "output_type": "execute_result"
    }
   ],
   "source": [
    "df.isnull().sum()/len(df)*100"
   ]
  },
  {
   "cell_type": "code",
   "execution_count": 66,
   "id": "30d16f2d",
   "metadata": {},
   "outputs": [],
   "source": [
    "df.drop(['inq_fi'],axis=1,inplace=True)"
   ]
  },
  {
   "cell_type": "code",
   "execution_count": 67,
   "id": "3959dcce",
   "metadata": {},
   "outputs": [
    {
     "data": {
      "text/plain": [
       "loan_amnt                     0.000000\n",
       "funded_amnt                   0.000000\n",
       "funded_amnt_inv               0.000000\n",
       "term                          0.000000\n",
       "int_rate                      0.000000\n",
       "                               ...    \n",
       "chargeoff_within_12_mths      0.140998\n",
       "delinq_amnt                   0.000000\n",
       "mo_sin_rcnt_tl              100.000000\n",
       "pub_rec_bankruptcies          1.754916\n",
       "tax_liens                     0.098195\n",
       "Length: 74, dtype: float64"
      ]
     },
     "execution_count": 67,
     "metadata": {},
     "output_type": "execute_result"
    }
   ],
   "source": [
    "df.isnull().sum()/len(df)*100"
   ]
  },
  {
   "cell_type": "code",
   "execution_count": 68,
   "id": "9176764c",
   "metadata": {},
   "outputs": [],
   "source": [
    "df.drop(['total_rev_hi_lim'],axis=1,inplace=True)"
   ]
  },
  {
   "cell_type": "code",
   "execution_count": 69,
   "id": "54246fbb",
   "metadata": {},
   "outputs": [
    {
     "data": {
      "text/plain": [
       "loan_amnt                     0.000000\n",
       "funded_amnt                   0.000000\n",
       "funded_amnt_inv               0.000000\n",
       "term                          0.000000\n",
       "int_rate                      0.000000\n",
       "                               ...    \n",
       "chargeoff_within_12_mths      0.140998\n",
       "delinq_amnt                   0.000000\n",
       "mo_sin_rcnt_tl              100.000000\n",
       "pub_rec_bankruptcies          1.754916\n",
       "tax_liens                     0.098195\n",
       "Length: 73, dtype: float64"
      ]
     },
     "execution_count": 69,
     "metadata": {},
     "output_type": "execute_result"
    }
   ],
   "source": [
    "df.isnull().sum()/len(df)*100"
   ]
  },
  {
   "cell_type": "code",
   "execution_count": 70,
   "id": "236f243e",
   "metadata": {},
   "outputs": [],
   "source": [
    "df.drop(['all_util'],axis=1,inplace=True)"
   ]
  },
  {
   "cell_type": "code",
   "execution_count": 71,
   "id": "2bfe2c06",
   "metadata": {},
   "outputs": [
    {
     "data": {
      "text/plain": [
       "loan_amnt                     0.000000\n",
       "funded_amnt                   0.000000\n",
       "funded_amnt_inv               0.000000\n",
       "term                          0.000000\n",
       "int_rate                      0.000000\n",
       "                               ...    \n",
       "chargeoff_within_12_mths      0.140998\n",
       "delinq_amnt                   0.000000\n",
       "mo_sin_rcnt_tl              100.000000\n",
       "pub_rec_bankruptcies          1.754916\n",
       "tax_liens                     0.098195\n",
       "Length: 72, dtype: float64"
      ]
     },
     "execution_count": 71,
     "metadata": {},
     "output_type": "execute_result"
    }
   ],
   "source": [
    "df.isnull().sum()/len(df)*100"
   ]
  },
  {
   "cell_type": "code",
   "execution_count": 72,
   "id": "3ddb871b",
   "metadata": {},
   "outputs": [],
   "source": [
    "df.drop(['max_bal_bc'],axis=1,inplace=True)"
   ]
  },
  {
   "cell_type": "code",
   "execution_count": 73,
   "id": "4fcd81b9",
   "metadata": {},
   "outputs": [
    {
     "data": {
      "text/plain": [
       "loan_amnt                     0.000000\n",
       "funded_amnt                   0.000000\n",
       "funded_amnt_inv               0.000000\n",
       "term                          0.000000\n",
       "int_rate                      0.000000\n",
       "                               ...    \n",
       "chargeoff_within_12_mths      0.140998\n",
       "delinq_amnt                   0.000000\n",
       "mo_sin_rcnt_tl              100.000000\n",
       "pub_rec_bankruptcies          1.754916\n",
       "tax_liens                     0.098195\n",
       "Length: 71, dtype: float64"
      ]
     },
     "execution_count": 73,
     "metadata": {},
     "output_type": "execute_result"
    }
   ],
   "source": [
    "df.isnull().sum()/len(df)*100"
   ]
  },
  {
   "cell_type": "code",
   "execution_count": 74,
   "id": "7334fb76",
   "metadata": {},
   "outputs": [],
   "source": [
    "df.drop(['open_rv_24m'],axis=1,inplace=True)"
   ]
  },
  {
   "cell_type": "code",
   "execution_count": 75,
   "id": "3bb23ebd",
   "metadata": {},
   "outputs": [
    {
     "data": {
      "text/plain": [
       "loan_amnt                     0.000000\n",
       "funded_amnt                   0.000000\n",
       "funded_amnt_inv               0.000000\n",
       "term                          0.000000\n",
       "int_rate                      0.000000\n",
       "                               ...    \n",
       "chargeoff_within_12_mths      0.140998\n",
       "delinq_amnt                   0.000000\n",
       "mo_sin_rcnt_tl              100.000000\n",
       "pub_rec_bankruptcies          1.754916\n",
       "tax_liens                     0.098195\n",
       "Length: 70, dtype: float64"
      ]
     },
     "execution_count": 75,
     "metadata": {},
     "output_type": "execute_result"
    }
   ],
   "source": [
    "df.isnull().sum()/len(df)*100"
   ]
  },
  {
   "cell_type": "code",
   "execution_count": 76,
   "id": "26ad91c7",
   "metadata": {},
   "outputs": [],
   "source": [
    "df.drop(['open_rv_12m'],axis=1,inplace=True)"
   ]
  },
  {
   "cell_type": "code",
   "execution_count": 77,
   "id": "a08cf4d6",
   "metadata": {},
   "outputs": [
    {
     "data": {
      "text/plain": [
       "loan_amnt                     0.000000\n",
       "funded_amnt                   0.000000\n",
       "funded_amnt_inv               0.000000\n",
       "term                          0.000000\n",
       "int_rate                      0.000000\n",
       "                               ...    \n",
       "chargeoff_within_12_mths      0.140998\n",
       "delinq_amnt                   0.000000\n",
       "mo_sin_rcnt_tl              100.000000\n",
       "pub_rec_bankruptcies          1.754916\n",
       "tax_liens                     0.098195\n",
       "Length: 69, dtype: float64"
      ]
     },
     "execution_count": 77,
     "metadata": {},
     "output_type": "execute_result"
    }
   ],
   "source": [
    "df.isnull().sum()/len(df)*100"
   ]
  },
  {
   "cell_type": "code",
   "execution_count": 78,
   "id": "4c81354b",
   "metadata": {},
   "outputs": [],
   "source": [
    "df.drop(['il_util'],axis=1,inplace=True)"
   ]
  },
  {
   "cell_type": "code",
   "execution_count": 79,
   "id": "b65835d0",
   "metadata": {},
   "outputs": [
    {
     "data": {
      "text/plain": [
       "loan_amnt                     0.000000\n",
       "funded_amnt                   0.000000\n",
       "funded_amnt_inv               0.000000\n",
       "term                          0.000000\n",
       "int_rate                      0.000000\n",
       "                               ...    \n",
       "chargeoff_within_12_mths      0.140998\n",
       "delinq_amnt                   0.000000\n",
       "mo_sin_rcnt_tl              100.000000\n",
       "pub_rec_bankruptcies          1.754916\n",
       "tax_liens                     0.098195\n",
       "Length: 68, dtype: float64"
      ]
     },
     "execution_count": 79,
     "metadata": {},
     "output_type": "execute_result"
    }
   ],
   "source": [
    "df.isnull().sum()/len(df)*100"
   ]
  },
  {
   "cell_type": "code",
   "execution_count": 80,
   "id": "a8e1e2d2",
   "metadata": {},
   "outputs": [],
   "source": [
    "df.drop(['total_bal_il'],axis=1,inplace=True)"
   ]
  },
  {
   "cell_type": "code",
   "execution_count": 81,
   "id": "061b73fa",
   "metadata": {},
   "outputs": [
    {
     "data": {
      "text/plain": [
       "loan_amnt                     0.000000\n",
       "funded_amnt                   0.000000\n",
       "funded_amnt_inv               0.000000\n",
       "term                          0.000000\n",
       "int_rate                      0.000000\n",
       "                               ...    \n",
       "chargeoff_within_12_mths      0.140998\n",
       "delinq_amnt                   0.000000\n",
       "mo_sin_rcnt_tl              100.000000\n",
       "pub_rec_bankruptcies          1.754916\n",
       "tax_liens                     0.098195\n",
       "Length: 67, dtype: float64"
      ]
     },
     "execution_count": 81,
     "metadata": {},
     "output_type": "execute_result"
    }
   ],
   "source": [
    "df.isnull().sum()/len(df)*100"
   ]
  },
  {
   "cell_type": "code",
   "execution_count": 82,
   "id": "04c86dcf",
   "metadata": {},
   "outputs": [],
   "source": [
    "df.drop(['mths_since_rcnt_il'],axis=1,inplace=True)"
   ]
  },
  {
   "cell_type": "code",
   "execution_count": 83,
   "id": "bfb026b2",
   "metadata": {},
   "outputs": [
    {
     "data": {
      "text/plain": [
       "loan_amnt                     0.000000\n",
       "funded_amnt                   0.000000\n",
       "funded_amnt_inv               0.000000\n",
       "term                          0.000000\n",
       "int_rate                      0.000000\n",
       "                               ...    \n",
       "chargeoff_within_12_mths      0.140998\n",
       "delinq_amnt                   0.000000\n",
       "mo_sin_rcnt_tl              100.000000\n",
       "pub_rec_bankruptcies          1.754916\n",
       "tax_liens                     0.098195\n",
       "Length: 66, dtype: float64"
      ]
     },
     "execution_count": 83,
     "metadata": {},
     "output_type": "execute_result"
    }
   ],
   "source": [
    "df.isnull().sum()/len(df)*100"
   ]
  },
  {
   "cell_type": "code",
   "execution_count": 84,
   "id": "e0a3d20b",
   "metadata": {},
   "outputs": [],
   "source": [
    "df.drop(['open_il_24m'],axis=1,inplace=True)"
   ]
  },
  {
   "cell_type": "code",
   "execution_count": 85,
   "id": "0b03e5f0",
   "metadata": {},
   "outputs": [
    {
     "data": {
      "text/plain": [
       "loan_amnt                     0.000000\n",
       "funded_amnt                   0.000000\n",
       "funded_amnt_inv               0.000000\n",
       "term                          0.000000\n",
       "int_rate                      0.000000\n",
       "                               ...    \n",
       "chargeoff_within_12_mths      0.140998\n",
       "delinq_amnt                   0.000000\n",
       "mo_sin_rcnt_tl              100.000000\n",
       "pub_rec_bankruptcies          1.754916\n",
       "tax_liens                     0.098195\n",
       "Length: 65, dtype: float64"
      ]
     },
     "execution_count": 85,
     "metadata": {},
     "output_type": "execute_result"
    }
   ],
   "source": [
    "df.isnull().sum()/len(df)*100"
   ]
  },
  {
   "cell_type": "code",
   "execution_count": 86,
   "id": "95797426",
   "metadata": {},
   "outputs": [],
   "source": [
    "df.drop(['open_il_12m'],axis=1,inplace=True)"
   ]
  },
  {
   "cell_type": "code",
   "execution_count": 87,
   "id": "ce888f0a",
   "metadata": {},
   "outputs": [
    {
     "data": {
      "text/plain": [
       "loan_amnt                     0.000000\n",
       "funded_amnt                   0.000000\n",
       "funded_amnt_inv               0.000000\n",
       "term                          0.000000\n",
       "int_rate                      0.000000\n",
       "                               ...    \n",
       "chargeoff_within_12_mths      0.140998\n",
       "delinq_amnt                   0.000000\n",
       "mo_sin_rcnt_tl              100.000000\n",
       "pub_rec_bankruptcies          1.754916\n",
       "tax_liens                     0.098195\n",
       "Length: 64, dtype: float64"
      ]
     },
     "execution_count": 87,
     "metadata": {},
     "output_type": "execute_result"
    }
   ],
   "source": [
    "df.isnull().sum()/len(df)*100"
   ]
  },
  {
   "cell_type": "code",
   "execution_count": 88,
   "id": "98724619",
   "metadata": {},
   "outputs": [],
   "source": [
    "df.drop(['open_il_6m'],axis=1,inplace=True)"
   ]
  },
  {
   "cell_type": "code",
   "execution_count": 89,
   "id": "93bc1b6d",
   "metadata": {},
   "outputs": [
    {
     "data": {
      "text/plain": [
       "loan_amnt                     0.000000\n",
       "funded_amnt                   0.000000\n",
       "funded_amnt_inv               0.000000\n",
       "term                          0.000000\n",
       "int_rate                      0.000000\n",
       "                               ...    \n",
       "chargeoff_within_12_mths      0.140998\n",
       "delinq_amnt                   0.000000\n",
       "mo_sin_rcnt_tl              100.000000\n",
       "pub_rec_bankruptcies          1.754916\n",
       "tax_liens                     0.098195\n",
       "Length: 63, dtype: float64"
      ]
     },
     "execution_count": 89,
     "metadata": {},
     "output_type": "execute_result"
    }
   ],
   "source": [
    "df.isnull().sum()/len(df)*100"
   ]
  },
  {
   "cell_type": "code",
   "execution_count": 90,
   "id": "26b6faf8",
   "metadata": {},
   "outputs": [],
   "source": [
    "df.drop(['open_acc_6m'],axis=1,inplace=True)"
   ]
  },
  {
   "cell_type": "code",
   "execution_count": 91,
   "id": "57158684",
   "metadata": {},
   "outputs": [
    {
     "data": {
      "text/plain": [
       "loan_amnt                     0.000000\n",
       "funded_amnt                   0.000000\n",
       "funded_amnt_inv               0.000000\n",
       "term                          0.000000\n",
       "int_rate                      0.000000\n",
       "                               ...    \n",
       "chargeoff_within_12_mths      0.140998\n",
       "delinq_amnt                   0.000000\n",
       "mo_sin_rcnt_tl              100.000000\n",
       "pub_rec_bankruptcies          1.754916\n",
       "tax_liens                     0.098195\n",
       "Length: 62, dtype: float64"
      ]
     },
     "execution_count": 91,
     "metadata": {},
     "output_type": "execute_result"
    }
   ],
   "source": [
    "df.isnull().sum()/len(df)*100"
   ]
  },
  {
   "cell_type": "code",
   "execution_count": 92,
   "id": "95850ba9",
   "metadata": {},
   "outputs": [],
   "source": [
    "df.drop(['tot_cur_bal'],axis=1,inplace=True)"
   ]
  },
  {
   "cell_type": "code",
   "execution_count": 93,
   "id": "e28c7924",
   "metadata": {},
   "outputs": [
    {
     "data": {
      "text/plain": [
       "loan_amnt                     0.000000\n",
       "funded_amnt                   0.000000\n",
       "funded_amnt_inv               0.000000\n",
       "term                          0.000000\n",
       "int_rate                      0.000000\n",
       "                               ...    \n",
       "chargeoff_within_12_mths      0.140998\n",
       "delinq_amnt                   0.000000\n",
       "mo_sin_rcnt_tl              100.000000\n",
       "pub_rec_bankruptcies          1.754916\n",
       "tax_liens                     0.098195\n",
       "Length: 61, dtype: float64"
      ]
     },
     "execution_count": 93,
     "metadata": {},
     "output_type": "execute_result"
    }
   ],
   "source": [
    "df.isnull().sum()/len(df)*100"
   ]
  },
  {
   "cell_type": "code",
   "execution_count": 94,
   "id": "653ec5f5",
   "metadata": {},
   "outputs": [],
   "source": [
    "df.drop(['mths_since_last_delinq'],axis=1,inplace=True)"
   ]
  },
  {
   "cell_type": "code",
   "execution_count": 95,
   "id": "5cfccef0",
   "metadata": {},
   "outputs": [],
   "source": [
    "df.drop(['mths_since_last_record'],axis=1,inplace=True)"
   ]
  },
  {
   "cell_type": "code",
   "execution_count": 96,
   "id": "1832dbd7",
   "metadata": {},
   "outputs": [],
   "source": [
    "df.drop(['next_pymnt_d'],axis=1,inplace=True)"
   ]
  },
  {
   "cell_type": "code",
   "execution_count": 97,
   "id": "260cbaed",
   "metadata": {},
   "outputs": [],
   "source": [
    "df.drop(['mths_since_last_major_derog'],axis=1,inplace=True)"
   ]
  },
  {
   "cell_type": "code",
   "execution_count": 98,
   "id": "21f57864",
   "metadata": {},
   "outputs": [],
   "source": [
    "df.drop(['annual_inc_joint'],axis=1,inplace=True)"
   ]
  },
  {
   "cell_type": "code",
   "execution_count": 99,
   "id": "a09450b7",
   "metadata": {},
   "outputs": [],
   "source": [
    "df.drop(['dti_joint'],axis=1,inplace=True)"
   ]
  },
  {
   "cell_type": "code",
   "execution_count": 100,
   "id": "54f09460",
   "metadata": {},
   "outputs": [],
   "source": [
    "df.drop(['verification_status_joint'],axis=1,inplace=True)"
   ]
  },
  {
   "cell_type": "code",
   "execution_count": 101,
   "id": "4f6652c3",
   "metadata": {},
   "outputs": [],
   "source": [
    "df.drop(['tot_coll_amt'],axis=1,inplace=True)"
   ]
  },
  {
   "cell_type": "code",
   "execution_count": 102,
   "id": "916663f1",
   "metadata": {},
   "outputs": [
    {
     "data": {
      "text/plain": [
       "loan_amnt                       0.000000\n",
       "funded_amnt                     0.000000\n",
       "funded_amnt_inv                 0.000000\n",
       "term                            0.000000\n",
       "int_rate                        0.000000\n",
       "installment                     0.000000\n",
       "grade                           0.000000\n",
       "sub_grade                       0.000000\n",
       "emp_title                       6.191303\n",
       "emp_length                      2.706650\n",
       "home_ownership                  0.000000\n",
       "annual_inc                      0.000000\n",
       "verification_status             0.000000\n",
       "issue_d                         0.000000\n",
       "loan_status                     0.000000\n",
       "pymnt_plan                      0.000000\n",
       "url                             0.000000\n",
       "desc                           32.580507\n",
       "purpose                         0.000000\n",
       "title                           0.027696\n",
       "zip_code                        0.000000\n",
       "addr_state                      0.000000\n",
       "dti                             0.000000\n",
       "delinq_2yrs                     0.000000\n",
       "earliest_cr_line                0.000000\n",
       "inq_last_6mths                  0.000000\n",
       "open_acc                        0.000000\n",
       "pub_rec                         0.000000\n",
       "revol_bal                       0.000000\n",
       "revol_util                      0.125891\n",
       "total_acc                       0.000000\n",
       "initial_list_status             0.000000\n",
       "out_prncp                       0.000000\n",
       "out_prncp_inv                   0.000000\n",
       "total_pymnt                     0.000000\n",
       "total_pymnt_inv                 0.000000\n",
       "total_rec_prncp                 0.000000\n",
       "total_rec_int                   0.000000\n",
       "total_rec_late_fee              0.000000\n",
       "recoveries                      0.000000\n",
       "collection_recovery_fee         0.000000\n",
       "last_pymnt_d                    0.178765\n",
       "last_pymnt_amnt                 0.000000\n",
       "last_credit_pull_d              0.005036\n",
       "collections_12_mths_ex_med      0.140998\n",
       "policy_code                     0.000000\n",
       "application_type                0.000000\n",
       "acc_now_delinq                  0.000000\n",
       "chargeoff_within_12_mths        0.140998\n",
       "delinq_amnt                     0.000000\n",
       "mo_sin_rcnt_tl                100.000000\n",
       "pub_rec_bankruptcies            1.754916\n",
       "tax_liens                       0.098195\n",
       "dtype: float64"
      ]
     },
     "execution_count": 102,
     "metadata": {},
     "output_type": "execute_result"
    }
   ],
   "source": [
    "df.isnull().sum()/len(df)*100"
   ]
  },
  {
   "cell_type": "code",
   "execution_count": 103,
   "id": "0c08156d",
   "metadata": {},
   "outputs": [
    {
     "data": {
      "text/plain": [
       "<bound method IndexOpsMixin.value_counts of 0          Borrower added on 12/22/11 > I need to upgra...\n",
       "1          Borrower added on 12/22/11 > I plan to use t...\n",
       "2                                                      NaN\n",
       "3          Borrower added on 12/21/11 > to pay for prop...\n",
       "4          Borrower added on 12/21/11 > I plan on combi...\n",
       "                               ...                        \n",
       "39712    Our current gutter system on our home is old a...\n",
       "39713    The rate of interest and fees incurred by carr...\n",
       "39714                                                  NaN\n",
       "39715                                                  NaN\n",
       "39716    I plan to consolidate over $7,000 of debt: a c...\n",
       "Name: desc, Length: 39717, dtype: object>"
      ]
     },
     "execution_count": 103,
     "metadata": {},
     "output_type": "execute_result"
    }
   ],
   "source": [
    "df['desc'].value_counts"
   ]
  },
  {
   "cell_type": "code",
   "execution_count": 104,
   "id": "988d371f",
   "metadata": {},
   "outputs": [],
   "source": [
    "df.drop(['desc'],axis=1,inplace=True)"
   ]
  },
  {
   "cell_type": "code",
   "execution_count": 105,
   "id": "5777d001",
   "metadata": {},
   "outputs": [
    {
     "data": {
      "text/plain": [
       "array([nan, 'Ryder', 'AIR RESOURCES BOARD', ..., 'FiSite Research',\n",
       "       'Squarewave Solutions, Ltd.', 'Evergreen Center'], dtype=object)"
      ]
     },
     "execution_count": 105,
     "metadata": {},
     "output_type": "execute_result"
    }
   ],
   "source": [
    "df['emp_title'].unique()"
   ]
  },
  {
   "cell_type": "code",
   "execution_count": 106,
   "id": "c695f7ef",
   "metadata": {},
   "outputs": [
    {
     "data": {
      "text/plain": [
       "US Army                              134\n",
       "Bank of America                      109\n",
       "IBM                                   66\n",
       "AT&T                                  59\n",
       "Kaiser Permanente                     56\n",
       "                                    ... \n",
       "Community College of Philadelphia      1\n",
       "AMEC                                   1\n",
       "lee county sheriff                     1\n",
       "Bacon County Board of Education        1\n",
       "Evergreen Center                       1\n",
       "Name: emp_title, Length: 28820, dtype: int64"
      ]
     },
     "execution_count": 106,
     "metadata": {},
     "output_type": "execute_result"
    }
   ],
   "source": [
    "df['emp_title'].value_counts()"
   ]
  },
  {
   "cell_type": "code",
   "execution_count": 107,
   "id": "7c843f4d",
   "metadata": {},
   "outputs": [
    {
     "data": {
      "text/plain": [
       "'US Army'"
      ]
     },
     "execution_count": 107,
     "metadata": {},
     "output_type": "execute_result"
    }
   ],
   "source": [
    "df['emp_title'].mode()[0]"
   ]
  },
  {
   "cell_type": "code",
   "execution_count": 108,
   "id": "1fbadfad",
   "metadata": {},
   "outputs": [],
   "source": [
    "df['emp_title']=df['emp_title'].fillna(df['emp_title'].mode()[0])"
   ]
  },
  {
   "cell_type": "code",
   "execution_count": 109,
   "id": "47ba2f35",
   "metadata": {},
   "outputs": [
    {
     "data": {
      "text/plain": [
       "array(['10+ years', '< 1 year', '1 year', '3 years', '8 years', '9 years',\n",
       "       '4 years', '5 years', '6 years', '2 years', '7 years', nan],\n",
       "      dtype=object)"
      ]
     },
     "execution_count": 109,
     "metadata": {},
     "output_type": "execute_result"
    }
   ],
   "source": [
    "df['emp_length'].unique()"
   ]
  },
  {
   "cell_type": "code",
   "execution_count": 110,
   "id": "9500abe9",
   "metadata": {},
   "outputs": [],
   "source": [
    "df['emp_length']=df['emp_length'].fillna(df['emp_length'].mode()[0])"
   ]
  },
  {
   "cell_type": "code",
   "execution_count": 111,
   "id": "79a23368",
   "metadata": {},
   "outputs": [
    {
     "data": {
      "text/plain": [
       "loan_amnt                       0.000000\n",
       "funded_amnt                     0.000000\n",
       "funded_amnt_inv                 0.000000\n",
       "term                            0.000000\n",
       "int_rate                        0.000000\n",
       "installment                     0.000000\n",
       "grade                           0.000000\n",
       "sub_grade                       0.000000\n",
       "emp_title                       0.000000\n",
       "emp_length                      0.000000\n",
       "home_ownership                  0.000000\n",
       "annual_inc                      0.000000\n",
       "verification_status             0.000000\n",
       "issue_d                         0.000000\n",
       "loan_status                     0.000000\n",
       "pymnt_plan                      0.000000\n",
       "url                             0.000000\n",
       "purpose                         0.000000\n",
       "title                           0.027696\n",
       "zip_code                        0.000000\n",
       "addr_state                      0.000000\n",
       "dti                             0.000000\n",
       "delinq_2yrs                     0.000000\n",
       "earliest_cr_line                0.000000\n",
       "inq_last_6mths                  0.000000\n",
       "open_acc                        0.000000\n",
       "pub_rec                         0.000000\n",
       "revol_bal                       0.000000\n",
       "revol_util                      0.125891\n",
       "total_acc                       0.000000\n",
       "initial_list_status             0.000000\n",
       "out_prncp                       0.000000\n",
       "out_prncp_inv                   0.000000\n",
       "total_pymnt                     0.000000\n",
       "total_pymnt_inv                 0.000000\n",
       "total_rec_prncp                 0.000000\n",
       "total_rec_int                   0.000000\n",
       "total_rec_late_fee              0.000000\n",
       "recoveries                      0.000000\n",
       "collection_recovery_fee         0.000000\n",
       "last_pymnt_d                    0.178765\n",
       "last_pymnt_amnt                 0.000000\n",
       "last_credit_pull_d              0.005036\n",
       "collections_12_mths_ex_med      0.140998\n",
       "policy_code                     0.000000\n",
       "application_type                0.000000\n",
       "acc_now_delinq                  0.000000\n",
       "chargeoff_within_12_mths        0.140998\n",
       "delinq_amnt                     0.000000\n",
       "mo_sin_rcnt_tl                100.000000\n",
       "pub_rec_bankruptcies            1.754916\n",
       "tax_liens                       0.098195\n",
       "dtype: float64"
      ]
     },
     "execution_count": 111,
     "metadata": {},
     "output_type": "execute_result"
    }
   ],
   "source": [
    "df.isnull().sum()/len(df)*100"
   ]
  },
  {
   "cell_type": "code",
   "execution_count": 112,
   "id": "ce0b82f1",
   "metadata": {},
   "outputs": [],
   "source": [
    "df.drop(['mo_sin_rcnt_tl'],axis=1,inplace=True)"
   ]
  },
  {
   "cell_type": "code",
   "execution_count": 113,
   "id": "91332fed",
   "metadata": {},
   "outputs": [
    {
     "data": {
      "text/plain": [
       "loan_amnt                     0.000000\n",
       "funded_amnt                   0.000000\n",
       "funded_amnt_inv               0.000000\n",
       "term                          0.000000\n",
       "int_rate                      0.000000\n",
       "installment                   0.000000\n",
       "grade                         0.000000\n",
       "sub_grade                     0.000000\n",
       "emp_title                     0.000000\n",
       "emp_length                    0.000000\n",
       "home_ownership                0.000000\n",
       "annual_inc                    0.000000\n",
       "verification_status           0.000000\n",
       "issue_d                       0.000000\n",
       "loan_status                   0.000000\n",
       "pymnt_plan                    0.000000\n",
       "url                           0.000000\n",
       "purpose                       0.000000\n",
       "title                         0.027696\n",
       "zip_code                      0.000000\n",
       "addr_state                    0.000000\n",
       "dti                           0.000000\n",
       "delinq_2yrs                   0.000000\n",
       "earliest_cr_line              0.000000\n",
       "inq_last_6mths                0.000000\n",
       "open_acc                      0.000000\n",
       "pub_rec                       0.000000\n",
       "revol_bal                     0.000000\n",
       "revol_util                    0.125891\n",
       "total_acc                     0.000000\n",
       "initial_list_status           0.000000\n",
       "out_prncp                     0.000000\n",
       "out_prncp_inv                 0.000000\n",
       "total_pymnt                   0.000000\n",
       "total_pymnt_inv               0.000000\n",
       "total_rec_prncp               0.000000\n",
       "total_rec_int                 0.000000\n",
       "total_rec_late_fee            0.000000\n",
       "recoveries                    0.000000\n",
       "collection_recovery_fee       0.000000\n",
       "last_pymnt_d                  0.178765\n",
       "last_pymnt_amnt               0.000000\n",
       "last_credit_pull_d            0.005036\n",
       "collections_12_mths_ex_med    0.140998\n",
       "policy_code                   0.000000\n",
       "application_type              0.000000\n",
       "acc_now_delinq                0.000000\n",
       "chargeoff_within_12_mths      0.140998\n",
       "delinq_amnt                   0.000000\n",
       "pub_rec_bankruptcies          1.754916\n",
       "tax_liens                     0.098195\n",
       "dtype: float64"
      ]
     },
     "execution_count": 113,
     "metadata": {},
     "output_type": "execute_result"
    }
   ],
   "source": [
    "df.isnull().sum()/len(df)*100"
   ]
  },
  {
   "cell_type": "code",
   "execution_count": 114,
   "id": "4c753690",
   "metadata": {},
   "outputs": [],
   "source": [
    "df.dropna(inplace=True)"
   ]
  },
  {
   "cell_type": "code",
   "execution_count": 115,
   "id": "178680e5",
   "metadata": {},
   "outputs": [
    {
     "data": {
      "text/plain": [
       "loan_amnt                     0.0\n",
       "funded_amnt                   0.0\n",
       "funded_amnt_inv               0.0\n",
       "term                          0.0\n",
       "int_rate                      0.0\n",
       "installment                   0.0\n",
       "grade                         0.0\n",
       "sub_grade                     0.0\n",
       "emp_title                     0.0\n",
       "emp_length                    0.0\n",
       "home_ownership                0.0\n",
       "annual_inc                    0.0\n",
       "verification_status           0.0\n",
       "issue_d                       0.0\n",
       "loan_status                   0.0\n",
       "pymnt_plan                    0.0\n",
       "url                           0.0\n",
       "purpose                       0.0\n",
       "title                         0.0\n",
       "zip_code                      0.0\n",
       "addr_state                    0.0\n",
       "dti                           0.0\n",
       "delinq_2yrs                   0.0\n",
       "earliest_cr_line              0.0\n",
       "inq_last_6mths                0.0\n",
       "open_acc                      0.0\n",
       "pub_rec                       0.0\n",
       "revol_bal                     0.0\n",
       "revol_util                    0.0\n",
       "total_acc                     0.0\n",
       "initial_list_status           0.0\n",
       "out_prncp                     0.0\n",
       "out_prncp_inv                 0.0\n",
       "total_pymnt                   0.0\n",
       "total_pymnt_inv               0.0\n",
       "total_rec_prncp               0.0\n",
       "total_rec_int                 0.0\n",
       "total_rec_late_fee            0.0\n",
       "recoveries                    0.0\n",
       "collection_recovery_fee       0.0\n",
       "last_pymnt_d                  0.0\n",
       "last_pymnt_amnt               0.0\n",
       "last_credit_pull_d            0.0\n",
       "collections_12_mths_ex_med    0.0\n",
       "policy_code                   0.0\n",
       "application_type              0.0\n",
       "acc_now_delinq                0.0\n",
       "chargeoff_within_12_mths      0.0\n",
       "delinq_amnt                   0.0\n",
       "pub_rec_bankruptcies          0.0\n",
       "tax_liens                     0.0\n",
       "dtype: float64"
      ]
     },
     "execution_count": 115,
     "metadata": {},
     "output_type": "execute_result"
    }
   ],
   "source": [
    "df.isnull().sum()/len(df)*100"
   ]
  },
  {
   "cell_type": "code",
   "execution_count": 116,
   "id": "0e5e0961",
   "metadata": {},
   "outputs": [],
   "source": [
    "obj=df.select_dtypes(include=['O'])"
   ]
  },
  {
   "cell_type": "code",
   "execution_count": 117,
   "id": "3db7987c",
   "metadata": {},
   "outputs": [
    {
     "data": {
      "text/plain": [
       "Index(['term', 'int_rate', 'grade', 'sub_grade', 'emp_title', 'emp_length',\n",
       "       'home_ownership', 'verification_status', 'issue_d', 'loan_status',\n",
       "       'pymnt_plan', 'url', 'purpose', 'title', 'zip_code', 'addr_state',\n",
       "       'earliest_cr_line', 'revol_util', 'initial_list_status', 'last_pymnt_d',\n",
       "       'last_credit_pull_d', 'application_type'],\n",
       "      dtype='object')"
      ]
     },
     "execution_count": 117,
     "metadata": {},
     "output_type": "execute_result"
    }
   ],
   "source": [
    "obj.columns"
   ]
  },
  {
   "cell_type": "code",
   "execution_count": 118,
   "id": "df86d582",
   "metadata": {},
   "outputs": [
    {
     "data": {
      "text/plain": [
       "array([' 36 months', ' 60 months'], dtype=object)"
      ]
     },
     "execution_count": 118,
     "metadata": {},
     "output_type": "execute_result"
    }
   ],
   "source": [
    "df['term'].unique()"
   ]
  },
  {
   "cell_type": "code",
   "execution_count": 119,
   "id": "588eff74",
   "metadata": {},
   "outputs": [
    {
     "data": {
      "text/plain": [
       "10.99%    956\n",
       "13.49%    824\n",
       "11.49%    819\n",
       "7.51%     786\n",
       "7.88%     725\n",
       "         ... \n",
       "10.64%      1\n",
       "20.52%      1\n",
       "16.01%      1\n",
       "16.33%      1\n",
       "12.49%      1\n",
       "Name: int_rate, Length: 336, dtype: int64"
      ]
     },
     "execution_count": 119,
     "metadata": {},
     "output_type": "execute_result"
    }
   ],
   "source": [
    "df['int_rate'].value_counts()"
   ]
  },
  {
   "cell_type": "code",
   "execution_count": 120,
   "id": "ac30a37b",
   "metadata": {},
   "outputs": [],
   "source": [
    "df.drop(['int_rate'],axis=1,inplace=True)"
   ]
  },
  {
   "cell_type": "code",
   "execution_count": 121,
   "id": "d62d59ff",
   "metadata": {},
   "outputs": [
    {
     "data": {
      "text/plain": [
       "array(['B', 'C', 'A', 'E', 'F', 'D', 'G'], dtype=object)"
      ]
     },
     "execution_count": 121,
     "metadata": {},
     "output_type": "execute_result"
    }
   ],
   "source": [
    "df['grade'].unique()"
   ]
  },
  {
   "cell_type": "code",
   "execution_count": 122,
   "id": "d96b3392",
   "metadata": {},
   "outputs": [
    {
     "data": {
      "text/plain": [
       "array(['B2', 'C4', 'C5', 'C1', 'B5', 'A4', 'E1', 'F2', 'C3', 'B1', 'D1',\n",
       "       'A1', 'B3', 'B4', 'D2', 'A3', 'A5', 'D5', 'A2', 'E4', 'D3', 'C2',\n",
       "       'D4', 'F3', 'E3', 'F4', 'F1', 'E5', 'G4', 'E2', 'G3', 'G2', 'G1',\n",
       "       'F5', 'G5'], dtype=object)"
      ]
     },
     "execution_count": 122,
     "metadata": {},
     "output_type": "execute_result"
    }
   ],
   "source": [
    "df['sub_grade'].unique()"
   ]
  },
  {
   "cell_type": "code",
   "execution_count": 123,
   "id": "5c7f7a53",
   "metadata": {},
   "outputs": [],
   "source": [
    "df.drop(['sub_grade'],axis=1,inplace=True)"
   ]
  },
  {
   "cell_type": "code",
   "execution_count": 124,
   "id": "4824de77",
   "metadata": {},
   "outputs": [
    {
     "data": {
      "text/plain": [
       "array(['10+ years', '< 1 year', '1 year', '3 years', '8 years', '9 years',\n",
       "       '4 years', '5 years', '6 years', '2 years', '7 years'],\n",
       "      dtype=object)"
      ]
     },
     "execution_count": 124,
     "metadata": {},
     "output_type": "execute_result"
    }
   ],
   "source": [
    "df['emp_length'].unique()"
   ]
  },
  {
   "cell_type": "code",
   "execution_count": 125,
   "id": "a94efded",
   "metadata": {},
   "outputs": [
    {
     "data": {
      "text/plain": [
       "array(['RENT', 'OWN', 'MORTGAGE', 'OTHER'], dtype=object)"
      ]
     },
     "execution_count": 125,
     "metadata": {},
     "output_type": "execute_result"
    }
   ],
   "source": [
    "df['home_ownership'].unique()"
   ]
  },
  {
   "cell_type": "code",
   "execution_count": 126,
   "id": "0333a210",
   "metadata": {},
   "outputs": [
    {
     "data": {
      "text/plain": [
       "array(['Verified', 'Source Verified', 'Not Verified'], dtype=object)"
      ]
     },
     "execution_count": 126,
     "metadata": {},
     "output_type": "execute_result"
    }
   ],
   "source": [
    "df['verification_status'].unique()"
   ]
  },
  {
   "cell_type": "code",
   "execution_count": 127,
   "id": "b4f163fa",
   "metadata": {},
   "outputs": [
    {
     "data": {
      "text/plain": [
       "array(['Dec-11', 'Nov-11', 'Oct-11', 'Sep-11', 'Aug-11', 'Jul-11',\n",
       "       'Jun-11', 'May-11', 'Apr-11', 'Mar-11', 'Feb-11', 'Jan-11',\n",
       "       'Dec-10', 'Nov-10', 'Oct-10', 'Sep-10', 'Aug-10', 'Jul-10',\n",
       "       'Jun-10', 'May-10', 'Apr-10', 'Mar-10', 'Feb-10', 'Jan-10',\n",
       "       'Dec-09', 'Nov-09', 'Oct-09', 'Sep-09', 'Aug-09', 'Jul-09',\n",
       "       'Jun-09', 'May-09', 'Apr-09', 'Mar-09', 'Feb-09', 'Jan-09',\n",
       "       'Dec-08', 'Nov-08', 'Oct-08', 'Sep-08', 'Aug-08', 'Jul-08',\n",
       "       'Jun-08', 'May-08', 'Apr-08', 'Mar-08', 'Feb-08', 'Jan-08',\n",
       "       'Dec-07', 'Nov-07', 'Oct-07'], dtype=object)"
      ]
     },
     "execution_count": 127,
     "metadata": {},
     "output_type": "execute_result"
    }
   ],
   "source": [
    "df['issue_d'].unique()"
   ]
  },
  {
   "cell_type": "code",
   "execution_count": 128,
   "id": "37d123fb",
   "metadata": {},
   "outputs": [
    {
     "data": {
      "text/plain": [
       "0        Dec\n",
       "1        Dec\n",
       "2        Dec\n",
       "3        Dec\n",
       "4        Dec\n",
       "        ... \n",
       "39475    Dec\n",
       "39551    Dec\n",
       "39562    Nov\n",
       "39573    Nov\n",
       "39623    Oct\n",
       "Name: issue_d, Length: 38889, dtype: object"
      ]
     },
     "execution_count": 128,
     "metadata": {},
     "output_type": "execute_result"
    }
   ],
   "source": [
    "df['issue_d'].str.split('-').str[0]"
   ]
  },
  {
   "cell_type": "code",
   "execution_count": 129,
   "id": "8893052d",
   "metadata": {},
   "outputs": [],
   "source": [
    "df['issue_d_month']=df['issue_d'].str.split('-').str[0]"
   ]
  },
  {
   "cell_type": "code",
   "execution_count": 130,
   "id": "0b8de01a",
   "metadata": {},
   "outputs": [],
   "source": [
    "df['issue_d_date']=df['issue_d'].str.split('-').str[1]"
   ]
  },
  {
   "cell_type": "code",
   "execution_count": 131,
   "id": "f2423637",
   "metadata": {},
   "outputs": [],
   "source": [
    "df.drop(['issue_d'],axis=1,inplace=True)"
   ]
  },
  {
   "cell_type": "code",
   "execution_count": 132,
   "id": "5a2154c1",
   "metadata": {},
   "outputs": [
    {
     "data": {
      "text/html": [
       "<div>\n",
       "<style scoped>\n",
       "    .dataframe tbody tr th:only-of-type {\n",
       "        vertical-align: middle;\n",
       "    }\n",
       "\n",
       "    .dataframe tbody tr th {\n",
       "        vertical-align: top;\n",
       "    }\n",
       "\n",
       "    .dataframe thead th {\n",
       "        text-align: right;\n",
       "    }\n",
       "</style>\n",
       "<table border=\"1\" class=\"dataframe\">\n",
       "  <thead>\n",
       "    <tr style=\"text-align: right;\">\n",
       "      <th></th>\n",
       "      <th>loan_amnt</th>\n",
       "      <th>funded_amnt</th>\n",
       "      <th>funded_amnt_inv</th>\n",
       "      <th>term</th>\n",
       "      <th>installment</th>\n",
       "      <th>grade</th>\n",
       "      <th>emp_title</th>\n",
       "      <th>emp_length</th>\n",
       "      <th>home_ownership</th>\n",
       "      <th>annual_inc</th>\n",
       "      <th>...</th>\n",
       "      <th>collections_12_mths_ex_med</th>\n",
       "      <th>policy_code</th>\n",
       "      <th>application_type</th>\n",
       "      <th>acc_now_delinq</th>\n",
       "      <th>chargeoff_within_12_mths</th>\n",
       "      <th>delinq_amnt</th>\n",
       "      <th>pub_rec_bankruptcies</th>\n",
       "      <th>tax_liens</th>\n",
       "      <th>issue_d_month</th>\n",
       "      <th>issue_d_date</th>\n",
       "    </tr>\n",
       "  </thead>\n",
       "  <tbody>\n",
       "    <tr>\n",
       "      <th>0</th>\n",
       "      <td>5000</td>\n",
       "      <td>5000</td>\n",
       "      <td>4975.0</td>\n",
       "      <td>36 months</td>\n",
       "      <td>162.87</td>\n",
       "      <td>B</td>\n",
       "      <td>US Army</td>\n",
       "      <td>10+ years</td>\n",
       "      <td>RENT</td>\n",
       "      <td>24000.0</td>\n",
       "      <td>...</td>\n",
       "      <td>0.0</td>\n",
       "      <td>1</td>\n",
       "      <td>INDIVIDUAL</td>\n",
       "      <td>0</td>\n",
       "      <td>0.0</td>\n",
       "      <td>0</td>\n",
       "      <td>0.0</td>\n",
       "      <td>0.0</td>\n",
       "      <td>Dec</td>\n",
       "      <td>11</td>\n",
       "    </tr>\n",
       "    <tr>\n",
       "      <th>1</th>\n",
       "      <td>2500</td>\n",
       "      <td>2500</td>\n",
       "      <td>2500.0</td>\n",
       "      <td>60 months</td>\n",
       "      <td>59.83</td>\n",
       "      <td>C</td>\n",
       "      <td>Ryder</td>\n",
       "      <td>&lt; 1 year</td>\n",
       "      <td>RENT</td>\n",
       "      <td>30000.0</td>\n",
       "      <td>...</td>\n",
       "      <td>0.0</td>\n",
       "      <td>1</td>\n",
       "      <td>INDIVIDUAL</td>\n",
       "      <td>0</td>\n",
       "      <td>0.0</td>\n",
       "      <td>0</td>\n",
       "      <td>0.0</td>\n",
       "      <td>0.0</td>\n",
       "      <td>Dec</td>\n",
       "      <td>11</td>\n",
       "    </tr>\n",
       "    <tr>\n",
       "      <th>2</th>\n",
       "      <td>2400</td>\n",
       "      <td>2400</td>\n",
       "      <td>2400.0</td>\n",
       "      <td>36 months</td>\n",
       "      <td>84.33</td>\n",
       "      <td>C</td>\n",
       "      <td>US Army</td>\n",
       "      <td>10+ years</td>\n",
       "      <td>RENT</td>\n",
       "      <td>12252.0</td>\n",
       "      <td>...</td>\n",
       "      <td>0.0</td>\n",
       "      <td>1</td>\n",
       "      <td>INDIVIDUAL</td>\n",
       "      <td>0</td>\n",
       "      <td>0.0</td>\n",
       "      <td>0</td>\n",
       "      <td>0.0</td>\n",
       "      <td>0.0</td>\n",
       "      <td>Dec</td>\n",
       "      <td>11</td>\n",
       "    </tr>\n",
       "    <tr>\n",
       "      <th>3</th>\n",
       "      <td>10000</td>\n",
       "      <td>10000</td>\n",
       "      <td>10000.0</td>\n",
       "      <td>36 months</td>\n",
       "      <td>339.31</td>\n",
       "      <td>C</td>\n",
       "      <td>AIR RESOURCES BOARD</td>\n",
       "      <td>10+ years</td>\n",
       "      <td>RENT</td>\n",
       "      <td>49200.0</td>\n",
       "      <td>...</td>\n",
       "      <td>0.0</td>\n",
       "      <td>1</td>\n",
       "      <td>INDIVIDUAL</td>\n",
       "      <td>0</td>\n",
       "      <td>0.0</td>\n",
       "      <td>0</td>\n",
       "      <td>0.0</td>\n",
       "      <td>0.0</td>\n",
       "      <td>Dec</td>\n",
       "      <td>11</td>\n",
       "    </tr>\n",
       "    <tr>\n",
       "      <th>4</th>\n",
       "      <td>3000</td>\n",
       "      <td>3000</td>\n",
       "      <td>3000.0</td>\n",
       "      <td>60 months</td>\n",
       "      <td>67.79</td>\n",
       "      <td>B</td>\n",
       "      <td>University Medical Group</td>\n",
       "      <td>1 year</td>\n",
       "      <td>RENT</td>\n",
       "      <td>80000.0</td>\n",
       "      <td>...</td>\n",
       "      <td>0.0</td>\n",
       "      <td>1</td>\n",
       "      <td>INDIVIDUAL</td>\n",
       "      <td>0</td>\n",
       "      <td>0.0</td>\n",
       "      <td>0</td>\n",
       "      <td>0.0</td>\n",
       "      <td>0.0</td>\n",
       "      <td>Dec</td>\n",
       "      <td>11</td>\n",
       "    </tr>\n",
       "  </tbody>\n",
       "</table>\n",
       "<p>5 rows × 50 columns</p>\n",
       "</div>"
      ],
      "text/plain": [
       "   loan_amnt  funded_amnt  funded_amnt_inv        term  installment grade  \\\n",
       "0       5000         5000           4975.0   36 months       162.87     B   \n",
       "1       2500         2500           2500.0   60 months        59.83     C   \n",
       "2       2400         2400           2400.0   36 months        84.33     C   \n",
       "3      10000        10000          10000.0   36 months       339.31     C   \n",
       "4       3000         3000           3000.0   60 months        67.79     B   \n",
       "\n",
       "                  emp_title emp_length home_ownership  annual_inc  ...  \\\n",
       "0                   US Army  10+ years           RENT     24000.0  ...   \n",
       "1                     Ryder   < 1 year           RENT     30000.0  ...   \n",
       "2                   US Army  10+ years           RENT     12252.0  ...   \n",
       "3       AIR RESOURCES BOARD  10+ years           RENT     49200.0  ...   \n",
       "4  University Medical Group     1 year           RENT     80000.0  ...   \n",
       "\n",
       "  collections_12_mths_ex_med policy_code application_type acc_now_delinq  \\\n",
       "0                        0.0           1       INDIVIDUAL              0   \n",
       "1                        0.0           1       INDIVIDUAL              0   \n",
       "2                        0.0           1       INDIVIDUAL              0   \n",
       "3                        0.0           1       INDIVIDUAL              0   \n",
       "4                        0.0           1       INDIVIDUAL              0   \n",
       "\n",
       "  chargeoff_within_12_mths delinq_amnt pub_rec_bankruptcies tax_liens  \\\n",
       "0                      0.0           0                  0.0       0.0   \n",
       "1                      0.0           0                  0.0       0.0   \n",
       "2                      0.0           0                  0.0       0.0   \n",
       "3                      0.0           0                  0.0       0.0   \n",
       "4                      0.0           0                  0.0       0.0   \n",
       "\n",
       "   issue_d_month  issue_d_date  \n",
       "0            Dec            11  \n",
       "1            Dec            11  \n",
       "2            Dec            11  \n",
       "3            Dec            11  \n",
       "4            Dec            11  \n",
       "\n",
       "[5 rows x 50 columns]"
      ]
     },
     "execution_count": 132,
     "metadata": {},
     "output_type": "execute_result"
    }
   ],
   "source": [
    "df.head()"
   ]
  },
  {
   "cell_type": "code",
   "execution_count": 133,
   "id": "d3137a05",
   "metadata": {},
   "outputs": [
    {
     "data": {
      "text/plain": [
       "array(['Fully Paid', 'Charged Off', 'Current'], dtype=object)"
      ]
     },
     "execution_count": 133,
     "metadata": {},
     "output_type": "execute_result"
    }
   ],
   "source": [
    "df['loan_status'].unique()"
   ]
  },
  {
   "cell_type": "code",
   "execution_count": 134,
   "id": "8145385a",
   "metadata": {},
   "outputs": [
    {
     "data": {
      "text/plain": [
       "array(['n'], dtype=object)"
      ]
     },
     "execution_count": 134,
     "metadata": {},
     "output_type": "execute_result"
    }
   ],
   "source": [
    "df['pymnt_plan'].unique()"
   ]
  },
  {
   "cell_type": "code",
   "execution_count": 135,
   "id": "edd58b97",
   "metadata": {},
   "outputs": [
    {
     "data": {
      "text/plain": [
       "0        n\n",
       "1        n\n",
       "2        n\n",
       "3        n\n",
       "4        n\n",
       "        ..\n",
       "39475    n\n",
       "39551    n\n",
       "39562    n\n",
       "39573    n\n",
       "39623    n\n",
       "Name: pymnt_plan, Length: 38889, dtype: object"
      ]
     },
     "execution_count": 135,
     "metadata": {},
     "output_type": "execute_result"
    }
   ],
   "source": [
    "df['pymnt_plan']"
   ]
  },
  {
   "cell_type": "code",
   "execution_count": 136,
   "id": "1702c9da",
   "metadata": {},
   "outputs": [
    {
     "data": {
      "text/plain": [
       "array(['https://lendingclub.com/browse/loanDetail.action?loan_id=1077501',\n",
       "       'https://lendingclub.com/browse/loanDetail.action?loan_id=1077430',\n",
       "       'https://lendingclub.com/browse/loanDetail.action?loan_id=1077175',\n",
       "       ...,\n",
       "       'https://lendingclub.com/browse/loanDetail.action?loan_id=154154',\n",
       "       'https://lendingclub.com/browse/loanDetail.action?loan_id=150940',\n",
       "       'https://lendingclub.com/browse/loanDetail.action?loan_id=132892'],\n",
       "      dtype=object)"
      ]
     },
     "execution_count": 136,
     "metadata": {},
     "output_type": "execute_result"
    }
   ],
   "source": [
    "df['url'].unique()"
   ]
  },
  {
   "cell_type": "code",
   "execution_count": 137,
   "id": "37ed14df",
   "metadata": {},
   "outputs": [],
   "source": [
    "df.drop(['url'],axis=1,inplace=True)"
   ]
  },
  {
   "cell_type": "code",
   "execution_count": 138,
   "id": "95c5a48a",
   "metadata": {},
   "outputs": [
    {
     "data": {
      "text/plain": [
       "array(['credit_card', 'car', 'small_business', 'other', 'wedding',\n",
       "       'debt_consolidation', 'home_improvement', 'major_purchase',\n",
       "       'medical', 'moving', 'vacation', 'house', 'renewable_energy',\n",
       "       'educational'], dtype=object)"
      ]
     },
     "execution_count": 138,
     "metadata": {},
     "output_type": "execute_result"
    }
   ],
   "source": [
    "df['purpose'].unique()"
   ]
  },
  {
   "cell_type": "code",
   "execution_count": 139,
   "id": "19f05c0d",
   "metadata": {},
   "outputs": [
    {
     "data": {
      "text/plain": [
       "array(['860xx', '309xx', '606xx', '917xx', '972xx', '852xx', '280xx',\n",
       "       '900xx', '958xx', '774xx', '853xx', '913xx', '245xx', '951xx',\n",
       "       '641xx', '921xx', '067xx', '890xx', '770xx', '335xx', '799xx',\n",
       "       '605xx', '150xx', '326xx', '564xx', '141xx', '080xx', '330xx',\n",
       "       '974xx', '934xx', '405xx', '946xx', '445xx', '850xx', '604xx',\n",
       "       '292xx', '088xx', '180xx', '029xx', '700xx', '010xx', '441xx',\n",
       "       '104xx', '061xx', '616xx', '947xx', '914xx', '765xx', '980xx',\n",
       "       '017xx', '752xx', '787xx', '077xx', '540xx', '225xx', '440xx',\n",
       "       '437xx', '559xx', '912xx', '325xx', '300xx', '923xx', '352xx',\n",
       "       '013xx', '146xx', '074xx', '786xx', '937xx', '331xx', '115xx',\n",
       "       '191xx', '114xx', '908xx', '902xx', '992xx', '750xx', '950xx',\n",
       "       '329xx', '226xx', '614xx', '802xx', '672xx', '083xx', '100xx',\n",
       "       '926xx', '931xx', '712xx', '060xx', '707xx', '342xx', '895xx',\n",
       "       '430xx', '919xx', '996xx', '891xx', '935xx', '801xx', '928xx',\n",
       "       '233xx', '927xx', '970xx', '211xx', '303xx', '070xx', '194xx',\n",
       "       '263xx', '403xx', '301xx', '553xx', '993xx', '312xx', '432xx',\n",
       "       '602xx', '216xx', '151xx', '971xx', '305xx', '334xx', '050xx',\n",
       "       '129xx', '925xx', '483xx', '760xx', '961xx', '200xx', '085xx',\n",
       "       '981xx', '103xx', '601xx', '117xx', '063xx', '920xx', '543xx',\n",
       "       '775xx', '570xx', '038xx', '221xx', '985xx', '113xx', '275xx',\n",
       "       '236xx', '148xx', '028xx', '450xx', '532xx', '729xx', '321xx',\n",
       "       '959xx', '941xx', '955xx', '217xx', '880xx', '660xx', '062xx',\n",
       "       '193xx', '761xx', '857xx', '306xx', '271xx', '142xx', '956xx',\n",
       "       '983xx', '945xx', '109xx', '112xx', '187xx', '630xx', '435xx',\n",
       "       '488xx', '287xx', '705xx', '592xx', '318xx', '549xx', '212xx',\n",
       "       '347xx', '274xx', '265xx', '785xx', '027xx', '089xx', '813xx',\n",
       "       '069xx', '260xx', '201xx', '349xx', '322xx', '075xx', '124xx',\n",
       "       '940xx', '967xx', '111xx', '773xx', '997xx', '076xx', '538xx',\n",
       "       '021xx', '304xx', '234xx', '308xx', '809xx', '071xx', '363xx',\n",
       "       '296xx', '240xx', '830xx', '011xx', '622xx', '207xx', '140xx',\n",
       "       '336xx', '619xx', '208xx', '618xx', '014xx', '644xx', '283xx',\n",
       "       '276xx', '631xx', '243xx', '960xx', '181xx', '922xx', '224xx',\n",
       "       '975xx', '105xx', '986xx', '218xx', '652xx', '782xx', '410xx',\n",
       "       '480xx', '328xx', '719xx', '982xx', '065xx', '081xx', '954xx',\n",
       "       '346xx', '442xx', '025xx', '122xx', '173xx', '282xx', '120xx',\n",
       "       '082xx', '766xx', '229xx', '840xx', '744xx', '933xx', '451xx',\n",
       "       '907xx', '728xx', '159xx', '333xx', '293xx', '701xx', '984xx',\n",
       "       '811xx', '597xx', '957xx', '165xx', '720xx', '119xx', '359xx',\n",
       "       '195xx', '084xx', '969xx', '924xx', '531xx', '716xx', '337xx',\n",
       "       '841xx', '323xx', '740xx', '179xx', '805xx', '285xx', '551xx',\n",
       "       '658xx', '944xx', '232xx', '905xx', '600xx', '327xx', '711xx',\n",
       "       '906xx', '444xx', '856xx', '777xx', '072xx', '554xx', '145xx',\n",
       "       '537xx', '152xx', '847xx', '295xx', '829xx', '320xx', '131xx',\n",
       "       '939xx', '572xx', '281xx', '064xx', '550xx', '078xx', '452xx',\n",
       "       '778xx', '313xx', '851xx', '784xx', '804xx', '571xx', '210xx',\n",
       "       '988xx', '400xx', '995xx', '023xx', '158xx', '657xx', '016xx',\n",
       "       '019xx', '290xx', '190xx', '366xx', '066xx', '991xx', '968xx',\n",
       "       '721xx', '439xx', '640xx', '546xx', '024xx', '751xx', '431xx',\n",
       "       '741xx', '904xx', '156xx', '316xx', '299xx', '087xx', '739xx',\n",
       "       '949xx', '261xx', '073xx', '222xx', '244xx', '617xx', '018xx',\n",
       "       '286xx', '759xx', '952xx', '930xx', '911xx', '220xx', '731xx',\n",
       "       '730xx', '262xx', '338xx', '160xx', '031xx', '054xx', '223xx',\n",
       "       '272xx', '882xx', '557xx', '797xx', '725xx', '130xx', '030xx',\n",
       "       '206xx', '324xx', '170xx', '291xx', '161xx', '647xx', '916xx',\n",
       "       '665xx', '209xx', '915xx', '110xx', '086xx', '484xx', '844xx',\n",
       "       '020xx', '354xx', '448xx', '978xx', '757xx', '953xx', '577xx',\n",
       "       '315xx', '664xx', '186xx', '182xx', '574xx', '800xx', '197xx',\n",
       "       '137xx', '314xx', '755xx', '973xx', '603xx', '481xx', '780xx',\n",
       "       '894xx', '341xx', '361xx', '178xx', '068xx', '565xx', '611xx',\n",
       "       '288xx', '443xx', '662xx', '874xx', '560xx', '535xx', '499xx',\n",
       "       '162xx', '756xx', '168xx', '827xx', '541xx', '615xx', '989xx',\n",
       "       '037xx', '863xx', '339xx', '367xx', '273xx', '052xx', '623xx',\n",
       "       '416xx', '648xx', '918xx', '436xx', '898xx', '674xx', '496xx',\n",
       "       '294xx', '762xx', '128xx', '903xx', '932xx', '650xx', '246xx',\n",
       "       '633xx', '666xx', '228xx', '015xx', '302xx', '573xx', '118xx',\n",
       "       '998xx', '767xx', '490xx', '350xx', '591xx', '254xx', '566xx',\n",
       "       '596xx', '637xx', '032xx', '763xx', '494xx', '402xx', '545xx',\n",
       "       '184xx', '239xx', '977xx', '297xx', '284xx', '144xx', '748xx',\n",
       "       '310xx', '147xx', '153xx', '544xx', '948xx', '576xx', '976xx',\n",
       "       '107xx', '846xx', '344xx', '351xx', '754xx', '910xx', '656xx',\n",
       "       '357xx', '791xx', '493xx', '855xx', '278xx', '125xx', '175xx',\n",
       "       '530xx', '171xx', '703xx', '620xx', '438xx', '626xx', '307xx',\n",
       "       '636xx', '319xx', '116xx', '645xx', '708xx', '816xx', '625xx',\n",
       "       '133xx', '612xx', '238xx', '166xx', '231xx', '241xx', '826xx',\n",
       "       '783xx', '793xx', '646xx', '188xx', '108xx', '653xx', '871xx',\n",
       "       '057xx', '796xx', '990xx', '219xx', '724xx', '456xx', '214xx',\n",
       "       '237xx', '737xx', '121xx', '199xx', '548xx', '453xx', '704xx',\n",
       "       '368xx', '828xx', '598xx', '136xx', '610xx', '433xx', '722xx',\n",
       "       '743xx', '810xx', '706xx', '235xx', '139xx', '613xx', '454xx',\n",
       "       '317xx', '746xx', '446xx', '486xx', '033xx', '279xx', '407xx',\n",
       "       '803xx', '794xx', '457xx', '189xx', '196xx', '539xx', '424xx',\n",
       "       '492xx', '482xx', '667xx', '845xx', '608xx', '401xx', '362xx',\n",
       "       '627xx', '717xx', '356xx', '607xx', '963xx', '198xx', '936xx',\n",
       "       '713xx', '227xx', '883xx', '563xx', '893xx', '079xx', '806xx',\n",
       "       '360xx', '172xx', '422xx', '768xx', '034xx', '735xx', '870xx',\n",
       "       '012xx', '594xx', '215xx', '628xx', '749xx', '101xx', '814xx',\n",
       "       '255xx', '745xx', '495xx', '132xx', '183xx', '864xx', '106xx',\n",
       "       '663xx', '943xx', '094xx', '177xx', '365xx', '897xx', '776xx',\n",
       "       '843xx', '458xx', '421xx', '253xx', '795xx', '727xx', '528xx',\n",
       "       '270xx', '808xx', '277xx', '447xx', '358xx', '815xx', '250xx',\n",
       "       '230xx', '790xx', '884xx', '242xx', '534xx', '404xx', '397xx',\n",
       "       '434xx', '671xx', '655xx', '675xx', '053xx', '859xx', '126xx',\n",
       "       '102xx', '256xx', '673xx', '489xx', '258xx', '423xx', '497xx',\n",
       "       '788xx', '127xx', '176xx', '380xx', '058xx', '635xx', '498xx',\n",
       "       '820xx', '599xx', '822xx', '638xx', '723xx', '449xx', '420xx',\n",
       "       '157xx', '726xx', '185xx', '527xx', '298xx', '769xx', '257xx',\n",
       "       '881xx', '575xx', '624xx', '134xx', '877xx', '781xx', '718xx',\n",
       "       '670xx', '138xx', '026xx', '678xx', '398xx', '411xx', '149xx',\n",
       "       '247xx', '875xx', '838xx', '651xx', '364xx', '203xx', '427xx',\n",
       "       '629xx', '355xx', '174xx', '547xx', '567xx', '558xx', '135xx',\n",
       "       '035xx', '999xx', '634xx', '455xx', '143xx', '154xx', '562xx',\n",
       "       '779xx', '561xx', '734xx', '789xx', '812xx', '268xx', '051xx',\n",
       "       '865xx', '406xx', '661xx', '758xx', '676xx', '491xx', '267xx',\n",
       "       '609xx', '595xx', '259xx', '163xx', '264xx', '409xx', '376xx',\n",
       "       '471xx', '375xx', '747xx', '123xx', '714xx', '590xx', '639xx',\n",
       "       '412xx', '425xx', '022xx', '369xx', '164xx', '825xx', '266xx',\n",
       "       '096xx', '487xx', '251xx', '593xx', '169xx', '413xx', '155xx',\n",
       "       '764xx', '710xx', '408xx', '668xx', '056xx', '669xx', '167xx',\n",
       "       '542xx', '679xx', '462xx', '792xx', '824xx', '249xx', '798xx',\n",
       "       '370xx', '485xx', '654xx', '289xx', '807xx', '252xx', '556xx',\n",
       "       '353xx', '677xx', '090xx', '371xx', '831xx', '736xx', '007xx',\n",
       "       '332xx', '468xx', '461xx', '093xx', '248xx', '463xx', '391xx',\n",
       "       '381xx', '415xx', '378xx', '414xx', '396xx', '836xx', '044xx',\n",
       "       '392xx', '772xx', '374xx', '823xx', '395xx', '394xx', '965xx',\n",
       "       '390xx', '388xx', '386xx', '040xx', '385xx', '379xx', '681xx',\n",
       "       '837xx', '373xx', '753xx', '834xx'], dtype=object)"
      ]
     },
     "execution_count": 139,
     "metadata": {},
     "output_type": "execute_result"
    }
   ],
   "source": [
    "df['zip_code'].unique()"
   ]
  },
  {
   "cell_type": "code",
   "execution_count": 140,
   "id": "5f5b15f4",
   "metadata": {},
   "outputs": [],
   "source": [
    "df.drop(['zip_code'],axis=1,inplace=True)"
   ]
  },
  {
   "cell_type": "code",
   "execution_count": 141,
   "id": "6a5aa9ab",
   "metadata": {},
   "outputs": [
    {
     "data": {
      "text/plain": [
       "array(['AZ', 'GA', 'IL', 'CA', 'OR', 'NC', 'TX', 'VA', 'MO', 'CT', 'UT',\n",
       "       'FL', 'PA', 'MN', 'NY', 'NJ', 'KY', 'OH', 'SC', 'RI', 'LA', 'MA',\n",
       "       'WA', 'WI', 'AL', 'CO', 'KS', 'NV', 'AK', 'MD', 'WV', 'VT', 'MI',\n",
       "       'DC', 'SD', 'NH', 'AR', 'NM', 'MT', 'HI', 'WY', 'OK', 'DE', 'MS',\n",
       "       'TN', 'IA', 'NE', 'ID'], dtype=object)"
      ]
     },
     "execution_count": 141,
     "metadata": {},
     "output_type": "execute_result"
    }
   ],
   "source": [
    "df['addr_state'].unique()"
   ]
  },
  {
   "cell_type": "code",
   "execution_count": 142,
   "id": "05364d36",
   "metadata": {},
   "outputs": [],
   "source": [
    "df.drop(['addr_state'],axis=1,inplace=True)"
   ]
  },
  {
   "cell_type": "code",
   "execution_count": 143,
   "id": "c55119c5",
   "metadata": {},
   "outputs": [
    {
     "data": {
      "text/plain": [
       "array(['Jan-85', 'Apr-99', 'Nov-01', 'Feb-96', 'Jan-96', 'Nov-04',\n",
       "       'Jul-05', 'Jan-07', 'Apr-04', 'Sep-04', 'Jan-98', 'Oct-89',\n",
       "       'Jul-03', 'May-91', 'Sep-07', 'Oct-98', 'Aug-93', 'Oct-03',\n",
       "       'Jan-01', 'Nov-97', 'Feb-83', 'Jul-85', 'Apr-03', 'Jun-01',\n",
       "       'Feb-02', 'Aug-84', 'Nov-06', 'Dec-87', 'Nov-81', 'Feb-97',\n",
       "       'Apr-05', 'Oct-07', 'Dec-00', 'Apr-07', 'Dec-01', 'Jan-03',\n",
       "       'Mar-94', 'Sep-98', 'Jun-04', 'Nov-95', 'Jul-99', 'Jun-95',\n",
       "       'Sep-92', 'Jan-02', 'Apr-92', 'Oct-06', 'May-00', 'Dec-98',\n",
       "       'Dec-04', 'Oct-00', 'May-02', 'May-06', 'Jul-02', 'Jul-06',\n",
       "       'May-97', 'Oct-05', 'Apr-95', 'Oct-02', 'Jan-00', 'Apr-00',\n",
       "       'Dec-94', 'Sep-05', 'Dec-84', 'Dec-99', 'Nov-03', 'Jun-89',\n",
       "       'Jun-03', 'Oct-96', 'May-03', 'Jun-02', 'Jun-07', 'Dec-96',\n",
       "       'Feb-84', 'Sep-02', 'Jan-86', 'May-98', 'Jan-97', 'Jun-05',\n",
       "       'Feb-90', 'Mar-04', 'Jul-95', 'Aug-94', 'Jun-92', 'Mar-97',\n",
       "       'Apr-06', 'Apr-90', 'Aug-99', 'Sep-00', 'Feb-01', 'Dec-88',\n",
       "       'Feb-99', 'Dec-91', 'Aug-00', 'Oct-04', 'Aug-04', 'Feb-05',\n",
       "       'Nov-05', 'Nov-00', 'May-07', 'Jan-91', 'Jun-00', 'Aug-06',\n",
       "       'Dec-02', 'Jun-93', 'Jun-06', 'Feb-04', 'Dec-90', 'Mar-00',\n",
       "       'Feb-95', 'Jul-01', 'Apr-02', 'Sep-06', 'May-99', 'Aug-98',\n",
       "       'Dec-05', 'May-04', 'Oct-01', 'Jun-83', 'Mar-86', 'Apr-80',\n",
       "       'Jul-04', 'Jul-08', 'May-96', 'Jan-04', 'Nov-02', 'Aug-02',\n",
       "       'Aug-01', 'Mar-91', 'Sep-89', 'Sep-94', 'Sep-03', 'Sep-99',\n",
       "       'Aug-05', 'Dec-86', 'Nov-98', 'Feb-06', 'May-94', 'Nov-07',\n",
       "       'Feb-93', 'Nov-91', 'May-05', 'Dec-73', 'May-01', 'Mar-90',\n",
       "       'Mar-96', 'Oct-79', 'Jun-81', 'Mar-01', 'Apr-01', 'Jun-99',\n",
       "       'Nov-93', 'Jan-06', 'Dec-97', 'Nov-94', 'Jul-97', 'Oct-91',\n",
       "       'Jun-94', 'Mar-06', 'Sep-96', 'Apr-91', 'Jul-93', 'Jan-95',\n",
       "       'Sep-87', 'Mar-03', 'Oct-99', 'Jul-96', 'Dec-03', 'Aug-88',\n",
       "       'Jan-92', 'Mar-98', 'Feb-07', 'Aug-82', 'Mar-95', 'Dec-92',\n",
       "       'Jul-98', 'Jul-89', 'May-90', 'Jul-94', 'Sep-01', 'Mar-84',\n",
       "       'Aug-03', 'Nov-99', 'Mar-07', 'Mar-08', 'Apr-94', 'Jan-05',\n",
       "       'Jul-86', 'Aug-90', 'May-92', 'Jul-00', 'Mar-88', 'May-83',\n",
       "       'Apr-93', 'Jul-78', 'Feb-00', 'Dec-81', 'Mar-92', 'Jan-81',\n",
       "       'Sep-90', 'Jun-98', 'May-93', 'Nov-96', 'Mar-02', 'Jan-88',\n",
       "       'Aug-97', 'Aug-87', 'Aug-08', 'Oct-94', 'Oct-86', 'Feb-94',\n",
       "       'Jun-96', 'Feb-98', 'Nov-08', 'Apr-98', 'Jul-79', 'Jan-93',\n",
       "       'May-87', 'Jul-71', 'Aug-07', 'Jun-97', 'Mar-80', 'Dec-06',\n",
       "       'Jul-07', 'Oct-95', 'Jul-91', 'Jul-92', 'Dec-72', 'Dec-93',\n",
       "       'Jan-99', 'Feb-03', 'Apr-97', 'Dec-95', 'Apr-96', 'Jul-90',\n",
       "       'Mar-70', 'Nov-84', 'Apr-84', 'Jul-84', 'Aug-95', 'Mar-99',\n",
       "       'Sep-88', 'Mar-89', 'Mar-87', 'Oct-97', 'Dec-80', 'Jan-94',\n",
       "       'Sep-95', 'Mar-05', 'Jan-89', 'Feb-92', 'Jan-90', 'Nov-90',\n",
       "       'Mar-69', 'Jun-75', 'Mar-85', 'Dec-07', 'Oct-93', 'Dec-89',\n",
       "       'Sep-80', 'Jun-88', 'May-78', 'Apr-73', 'Aug-89', 'Oct-90',\n",
       "       'Sep-91', 'Feb-82', 'Feb-87', 'Nov-85', 'Jan-84', 'Jul-88',\n",
       "       'May-08', 'Oct-85', 'Mar-83', 'Aug-91', 'Sep-86', 'Jun-90',\n",
       "       'Feb-86', 'Sep-97', 'Jun-84', 'Sep-81', 'Apr-86', 'Aug-79',\n",
       "       'Aug-80', 'Nov-92', 'Sep-93', 'Jun-87', 'Sep-82', 'Aug-92',\n",
       "       'Aug-85', 'Jul-83', 'Jun-91', 'Dec-83', 'Jan-87', 'Nov-78',\n",
       "       'Oct-84', 'Aug-96', 'Nov-89', 'Sep-76', 'Nov-86', 'Oct-87',\n",
       "       'Sep-08', 'May-77', 'May-86', 'Mar-81', 'Jan-83', 'Nov-76',\n",
       "       'Sep-79', 'Oct-83', 'Sep-62', 'Jun-85', 'May-82', 'Feb-88',\n",
       "       'Oct-92', 'Aug-83', 'Jun-73', 'Apr-85', 'Oct-88', 'Oct-81',\n",
       "       'Sep-68', 'Jul-74', 'Nov-87', 'May-95', 'Feb-91', 'Nov-88',\n",
       "       'Mar-93', 'Jun-08', 'Jul-80', 'Dec-82', 'Mar-75', 'Feb-80',\n",
       "       'Apr-88', 'Dec-79', 'Sep-85', 'Sep-71', 'Mar-78', 'Feb-08',\n",
       "       'Aug-78', 'Nov-70', 'Jun-79', 'Jun-80', 'Apr-89', 'Sep-83',\n",
       "       'Feb-89', 'Nov-83', 'Jun-86', 'Oct-82', 'Aug-86', 'Oct-80',\n",
       "       'May-88', 'Dec-85', 'Jan-82', 'Sep-77', 'Dec-76', 'Apr-82',\n",
       "       'May-84', 'Apr-08', 'Feb-79', 'Jan-08', 'Sep-64', 'Jul-87',\n",
       "       'Jan-78', 'May-89', 'Oct-77', 'Dec-75', 'Feb-85', 'Oct-08',\n",
       "       'Nov-82', 'May-75', 'May-85', 'Feb-71', 'Jun-77', 'Apr-81',\n",
       "       'May-79', 'Jan-72', 'Sep-67', 'Apr-78', 'Feb-65', 'Apr-83',\n",
       "       'Nov-75', 'Jun-67', 'Mar-74', 'Jul-72', 'Aug-67', 'Apr-71',\n",
       "       'Sep-84', 'May-81', 'Dec-70', 'Oct-73', 'Jan-71', 'Dec-63',\n",
       "       'Apr-74', 'Jan-80', 'Aug-69', 'Apr-75', 'Jul-77', 'Mar-77',\n",
       "       'Nov-69', 'Jan-76', 'Mar-82', 'Apr-87', 'Dec-69', 'May-74',\n",
       "       'Aug-74', 'Jun-72', 'Mar-63', 'Nov-79', 'Aug-75', 'Sep-74',\n",
       "       'Aug-81', 'May-73', 'Sep-73', 'Mar-73', 'Dec-77', 'Oct-76',\n",
       "       'Jan-74', 'Jan-70', 'Aug-68', 'Feb-76', 'Jan-75', 'Oct-72',\n",
       "       'Dec-74', 'Feb-73', 'Nov-65', 'Mar-72', 'Jun-82', 'Jun-74',\n",
       "       'May-65', 'Jun-71', 'Oct-70', 'Apr-76', 'Oct-71', 'Apr-77',\n",
       "       'Sep-78', 'Oct-78', 'Oct-54', 'Feb-81', 'Jan-77', 'Aug-77',\n",
       "       'Dec-78', 'Aug-76', 'Jun-68', 'Jun-78', 'Jun-69', 'May-80',\n",
       "       'Jan-79', 'Oct-65', 'Nov-74', 'Apr-66', 'Jun-76', 'Feb-72',\n",
       "       'May-76', 'Mar-68', 'Mar-76', 'Jul-70', 'Mar-79', 'Jul-76',\n",
       "       'Jul-82', 'Sep-65', 'Apr-67', 'Oct-63', 'Feb-70', 'Jul-73',\n",
       "       'Feb-78', 'Nov-71', 'Aug-72', 'Jul-75', 'Sep-70', 'Jul-81',\n",
       "       'Oct-64', 'Sep-72', 'May-70', 'May-63', 'Feb-69', 'Nov-80',\n",
       "       'Jul-67', 'Apr-70', 'Nov-77', 'Nov-66', 'May-71', 'Apr-79',\n",
       "       'May-72', 'Feb-68', 'Jul-64', 'Nov-67', 'Apr-64', 'Feb-75',\n",
       "       'Jun-59', 'Sep-56', 'Jun-66', 'Jan-46', 'Mar-66', 'Jan-63',\n",
       "       'Dec-50', 'Jul-69', 'Jan-68', 'Nov-73', 'Jun-70', 'Feb-77',\n",
       "       'Feb-74', 'Jan-73', 'Feb-66', 'Dec-61', 'Aug-73', 'Aug-70',\n",
       "       'Sep-69', 'Sep-75', 'Dec-68', 'Nov-54', 'Oct-69', 'Dec-65',\n",
       "       'Apr-72', 'Nov-72', 'Sep-63', 'Apr-69', 'Nov-62', 'Oct-67',\n",
       "       'May-67', 'Nov-61', 'Feb-67', 'Nov-68', 'Oct-75', 'Mar-71',\n",
       "       'Aug-71', 'Dec-66', 'Oct-68', 'Oct-74'], dtype=object)"
      ]
     },
     "execution_count": 143,
     "metadata": {},
     "output_type": "execute_result"
    }
   ],
   "source": [
    "df['earliest_cr_line'].unique()"
   ]
  },
  {
   "cell_type": "code",
   "execution_count": 144,
   "id": "bd70f804",
   "metadata": {},
   "outputs": [],
   "source": [
    "df.drop(['earliest_cr_line'],axis=1,inplace=True)"
   ]
  },
  {
   "cell_type": "code",
   "execution_count": 145,
   "id": "c7dddf2b",
   "metadata": {},
   "outputs": [
    {
     "data": {
      "text/plain": [
       "array(['83.70%', '9.40%', '98.50%', ..., '49.63%', '0.04%', '7.28%'],\n",
       "      dtype=object)"
      ]
     },
     "execution_count": 145,
     "metadata": {},
     "output_type": "execute_result"
    }
   ],
   "source": [
    "df['revol_util'].unique()"
   ]
  },
  {
   "cell_type": "code",
   "execution_count": 146,
   "id": "0c3fef6c",
   "metadata": {},
   "outputs": [],
   "source": [
    "df.drop(['revol_util'],axis=1,inplace=True)"
   ]
  },
  {
   "cell_type": "code",
   "execution_count": 147,
   "id": "97e3afe7",
   "metadata": {},
   "outputs": [
    {
     "data": {
      "text/plain": [
       "array(['f'], dtype=object)"
      ]
     },
     "execution_count": 147,
     "metadata": {},
     "output_type": "execute_result"
    }
   ],
   "source": [
    "df['initial_list_status'].unique()"
   ]
  },
  {
   "cell_type": "code",
   "execution_count": 148,
   "id": "1a0dd027",
   "metadata": {
    "scrolled": true
   },
   "outputs": [
    {
     "data": {
      "text/plain": [
       "array(['Jan-15', 'Apr-13', 'Jun-14', 'May-16', 'Apr-12', 'Nov-12',\n",
       "       'Jun-13', 'Sep-13', 'Jul-12', 'Oct-13', 'May-13', 'Feb-15',\n",
       "       'Aug-15', 'Oct-12', 'Sep-12', 'Dec-12', 'Dec-14', 'Aug-13',\n",
       "       'Nov-13', 'Jan-14', 'Apr-14', 'Aug-14', 'Oct-14', 'Aug-12',\n",
       "       'Jul-14', 'Jul-13', 'Jan-16', 'Feb-16', 'Apr-15', 'Feb-14',\n",
       "       'Sep-14', 'Jun-12', 'Feb-13', 'Mar-13', 'May-14', 'Mar-15',\n",
       "       'Jan-13', 'Dec-13', 'Feb-12', 'Mar-14', 'Sep-15', 'Nov-15',\n",
       "       'Mar-16', 'Jan-12', 'Oct-15', 'Nov-14', 'Mar-12', 'May-12',\n",
       "       'Apr-16', 'Dec-15', 'Jun-15', 'May-15', 'Jul-15', 'Dec-11',\n",
       "       'Nov-11', 'Oct-11', 'Sep-11', 'Aug-11', 'Jul-11', 'Jun-11',\n",
       "       'May-11', 'Apr-11', 'Mar-11', 'Feb-11', 'Jan-11', 'Dec-10',\n",
       "       'Nov-10', 'Oct-10', 'Sep-10', 'Aug-10', 'Jul-10', 'Jun-10',\n",
       "       'May-10', 'Apr-10', 'Mar-10', 'Feb-10', 'Jan-10', 'Dec-09',\n",
       "       'Nov-09', 'Oct-09', 'Sep-09', 'Aug-09', 'Jul-09', 'Jun-09',\n",
       "       'May-09', 'Apr-09', 'Mar-09', 'Feb-09', 'Jan-09', 'Dec-08',\n",
       "       'Oct-08', 'Aug-08', 'Jul-08', 'Sep-08', 'Jun-08', 'May-08',\n",
       "       'Nov-08'], dtype=object)"
      ]
     },
     "execution_count": 148,
     "metadata": {},
     "output_type": "execute_result"
    }
   ],
   "source": [
    "df['last_pymnt_d'].unique()"
   ]
  },
  {
   "cell_type": "code",
   "execution_count": 149,
   "id": "902d4cf6",
   "metadata": {},
   "outputs": [],
   "source": [
    "df['last_pymnt_d_month']=df['last_pymnt_d'].str.split('-').str[0]"
   ]
  },
  {
   "cell_type": "code",
   "execution_count": 150,
   "id": "a3afabac",
   "metadata": {},
   "outputs": [],
   "source": [
    "df['last_pymnt_d_date']=df['last_pymnt_d'].str.split('-').str[1]"
   ]
  },
  {
   "cell_type": "code",
   "execution_count": 151,
   "id": "afb1827f",
   "metadata": {},
   "outputs": [],
   "source": [
    "df.drop(['last_pymnt_d'],axis=1,inplace=True)"
   ]
  },
  {
   "cell_type": "code",
   "execution_count": 152,
   "id": "0e689187",
   "metadata": {},
   "outputs": [
    {
     "data": {
      "text/plain": [
       "array(['May-16', 'Sep-13', 'Apr-16', 'Jan-16', 'Dec-14', 'Aug-12',\n",
       "       'Mar-13', 'Dec-15', 'Aug-13', 'Nov-12', 'Mar-14', 'Apr-15',\n",
       "       'May-14', 'Jul-15', 'Feb-16', 'Mar-16', 'Sep-12', 'May-13',\n",
       "       'Jan-15', 'Jun-12', 'Mar-15', 'Dec-12', 'Sep-14', 'Feb-14',\n",
       "       'Jun-15', 'Oct-13', 'Apr-14', 'Oct-14', 'Feb-13', 'Nov-15',\n",
       "       'Jul-14', 'Sep-15', 'Oct-12', 'Nov-13', 'Nov-14', 'Feb-12',\n",
       "       'Oct-15', 'Apr-12', 'Aug-15', 'Jun-14', 'Jan-12', 'Aug-14',\n",
       "       'Jun-13', 'Dec-13', 'May-12', 'Jul-12', 'Jan-14', 'Jul-13',\n",
       "       'Apr-13', 'May-15', 'Feb-15', 'Mar-12', 'Nov-11', 'Dec-11',\n",
       "       'Jan-13', 'Oct-11', 'Sep-11', 'Aug-11', 'Jul-11', 'Jun-11',\n",
       "       'May-11', 'Apr-11', 'Mar-11', 'Feb-11', 'Jan-11', 'Dec-10',\n",
       "       'Nov-10', 'Oct-10', 'Sep-10', 'Aug-10', 'Jul-10', 'Jun-10',\n",
       "       'May-10', 'Apr-10', 'Feb-10', 'Mar-10', 'Aug-07', 'Jan-10',\n",
       "       'Dec-09', 'Nov-09', 'Oct-09', 'Sep-09', 'Jul-09', 'Aug-09',\n",
       "       'May-09', 'Jun-09', 'Apr-09', 'Mar-09', 'Feb-09', 'Jan-09',\n",
       "       'Dec-08', 'Jun-08', 'Sep-08', 'May-08', 'Aug-08', 'Mar-08',\n",
       "       'Oct-08'], dtype=object)"
      ]
     },
     "execution_count": 152,
     "metadata": {},
     "output_type": "execute_result"
    }
   ],
   "source": [
    "df['last_credit_pull_d'].unique()"
   ]
  },
  {
   "cell_type": "code",
   "execution_count": 153,
   "id": "4fbcde2a",
   "metadata": {},
   "outputs": [],
   "source": [
    "df['last_credit_pull_d_month']=df['last_credit_pull_d'].str.split('-').str[0]"
   ]
  },
  {
   "cell_type": "code",
   "execution_count": 154,
   "id": "f67887ce",
   "metadata": {},
   "outputs": [],
   "source": [
    "df['last_credit_pull_d_date']=df['last_credit_pull_d'].str.split('-').str[1]"
   ]
  },
  {
   "cell_type": "code",
   "execution_count": 155,
   "id": "37a74035",
   "metadata": {},
   "outputs": [],
   "source": [
    "df.drop(['last_credit_pull_d'],axis=1,inplace=True)"
   ]
  },
  {
   "cell_type": "code",
   "execution_count": 156,
   "id": "d94a29ba",
   "metadata": {},
   "outputs": [
    {
     "data": {
      "text/plain": [
       "array(['INDIVIDUAL'], dtype=object)"
      ]
     },
     "execution_count": 156,
     "metadata": {},
     "output_type": "execute_result"
    }
   ],
   "source": [
    "df['application_type'].unique()"
   ]
  },
  {
   "cell_type": "code",
   "execution_count": 157,
   "id": "dadb53e3",
   "metadata": {},
   "outputs": [
    {
     "data": {
      "text/plain": [
       "0        INDIVIDUAL\n",
       "1        INDIVIDUAL\n",
       "2        INDIVIDUAL\n",
       "3        INDIVIDUAL\n",
       "4        INDIVIDUAL\n",
       "            ...    \n",
       "39475    INDIVIDUAL\n",
       "39551    INDIVIDUAL\n",
       "39562    INDIVIDUAL\n",
       "39573    INDIVIDUAL\n",
       "39623    INDIVIDUAL\n",
       "Name: application_type, Length: 38889, dtype: object"
      ]
     },
     "execution_count": 157,
     "metadata": {},
     "output_type": "execute_result"
    }
   ],
   "source": [
    "df['application_type']"
   ]
  },
  {
   "cell_type": "code",
   "execution_count": 158,
   "id": "db22b89b",
   "metadata": {},
   "outputs": [],
   "source": [
    "from sklearn.preprocessing import LabelEncoder\n",
    "le=LabelEncoder()"
   ]
  },
  {
   "cell_type": "code",
   "execution_count": 159,
   "id": "691455a1",
   "metadata": {},
   "outputs": [],
   "source": [
    "df['term']=le.fit_transform(df['term'])"
   ]
  },
  {
   "cell_type": "code",
   "execution_count": 160,
   "id": "038267d8",
   "metadata": {},
   "outputs": [],
   "source": [
    "df['grade']=le.fit_transform(df['grade'])"
   ]
  },
  {
   "cell_type": "code",
   "execution_count": 161,
   "id": "dab91c3f",
   "metadata": {},
   "outputs": [],
   "source": [
    "df['emp_length']=le.fit_transform(df['emp_length'])"
   ]
  },
  {
   "cell_type": "code",
   "execution_count": 162,
   "id": "d9eb40b3",
   "metadata": {},
   "outputs": [
    {
     "name": "stdout",
     "output_type": "stream",
     "text": [
      "<class 'pandas.core.frame.DataFrame'>\n",
      "Int64Index: 38889 entries, 0 to 39623\n",
      "Data columns (total 47 columns):\n",
      " #   Column                      Non-Null Count  Dtype  \n",
      "---  ------                      --------------  -----  \n",
      " 0   loan_amnt                   38889 non-null  int64  \n",
      " 1   funded_amnt                 38889 non-null  int64  \n",
      " 2   funded_amnt_inv             38889 non-null  float64\n",
      " 3   term                        38889 non-null  int32  \n",
      " 4   installment                 38889 non-null  float64\n",
      " 5   grade                       38889 non-null  int32  \n",
      " 6   emp_title                   38889 non-null  object \n",
      " 7   emp_length                  38889 non-null  int32  \n",
      " 8   home_ownership              38889 non-null  object \n",
      " 9   annual_inc                  38889 non-null  float64\n",
      " 10  verification_status         38889 non-null  object \n",
      " 11  loan_status                 38889 non-null  object \n",
      " 12  pymnt_plan                  38889 non-null  object \n",
      " 13  purpose                     38889 non-null  object \n",
      " 14  title                       38889 non-null  object \n",
      " 15  dti                         38889 non-null  float64\n",
      " 16  delinq_2yrs                 38889 non-null  int64  \n",
      " 17  inq_last_6mths              38889 non-null  int64  \n",
      " 18  open_acc                    38889 non-null  int64  \n",
      " 19  pub_rec                     38889 non-null  int64  \n",
      " 20  revol_bal                   38889 non-null  int64  \n",
      " 21  total_acc                   38889 non-null  int64  \n",
      " 22  initial_list_status         38889 non-null  object \n",
      " 23  out_prncp                   38889 non-null  float64\n",
      " 24  out_prncp_inv               38889 non-null  float64\n",
      " 25  total_pymnt                 38889 non-null  float64\n",
      " 26  total_pymnt_inv             38889 non-null  float64\n",
      " 27  total_rec_prncp             38889 non-null  float64\n",
      " 28  total_rec_int               38889 non-null  float64\n",
      " 29  total_rec_late_fee          38889 non-null  float64\n",
      " 30  recoveries                  38889 non-null  float64\n",
      " 31  collection_recovery_fee     38889 non-null  float64\n",
      " 32  last_pymnt_amnt             38889 non-null  float64\n",
      " 33  collections_12_mths_ex_med  38889 non-null  float64\n",
      " 34  policy_code                 38889 non-null  int64  \n",
      " 35  application_type            38889 non-null  object \n",
      " 36  acc_now_delinq              38889 non-null  int64  \n",
      " 37  chargeoff_within_12_mths    38889 non-null  float64\n",
      " 38  delinq_amnt                 38889 non-null  int64  \n",
      " 39  pub_rec_bankruptcies        38889 non-null  float64\n",
      " 40  tax_liens                   38889 non-null  float64\n",
      " 41  issue_d_month               38889 non-null  object \n",
      " 42  issue_d_date                38889 non-null  object \n",
      " 43  last_pymnt_d_month          38889 non-null  object \n",
      " 44  last_pymnt_d_date           38889 non-null  object \n",
      " 45  last_credit_pull_d_month    38889 non-null  object \n",
      " 46  last_credit_pull_d_date     38889 non-null  object \n",
      "dtypes: float64(18), int32(3), int64(11), object(15)\n",
      "memory usage: 13.8+ MB\n"
     ]
    }
   ],
   "source": [
    "df.info()"
   ]
  },
  {
   "cell_type": "code",
   "execution_count": 163,
   "id": "86fb8404",
   "metadata": {},
   "outputs": [],
   "source": [
    "df['emp_title']=le.fit_transform(df['emp_title'])"
   ]
  },
  {
   "cell_type": "code",
   "execution_count": 164,
   "id": "20c88a12",
   "metadata": {},
   "outputs": [],
   "source": [
    "df['home_ownership']=le.fit_transform(df['home_ownership'])"
   ]
  },
  {
   "cell_type": "code",
   "execution_count": 165,
   "id": "b3177074",
   "metadata": {},
   "outputs": [],
   "source": [
    "df['verification_status']=le.fit_transform(df['verification_status'])"
   ]
  },
  {
   "cell_type": "code",
   "execution_count": 166,
   "id": "3b39d68e",
   "metadata": {},
   "outputs": [],
   "source": [
    "df['loan_status']=le.fit_transform(df['loan_status'])"
   ]
  },
  {
   "cell_type": "code",
   "execution_count": 167,
   "id": "70c94cc6",
   "metadata": {},
   "outputs": [],
   "source": [
    "df['pymnt_plan']=le.fit_transform(df['pymnt_plan'])"
   ]
  },
  {
   "cell_type": "code",
   "execution_count": 168,
   "id": "f6f6191d",
   "metadata": {},
   "outputs": [],
   "source": [
    "df['purpose']=le.fit_transform(df['purpose'])"
   ]
  },
  {
   "cell_type": "code",
   "execution_count": 169,
   "id": "6ae77bd8",
   "metadata": {},
   "outputs": [],
   "source": [
    "df['title']=le.fit_transform(df['title'])"
   ]
  },
  {
   "cell_type": "code",
   "execution_count": 170,
   "id": "af2bcb98",
   "metadata": {},
   "outputs": [],
   "source": [
    "df['initial_list_status']=le.fit_transform(df['initial_list_status'])"
   ]
  },
  {
   "cell_type": "code",
   "execution_count": 171,
   "id": "9c4c15a9",
   "metadata": {},
   "outputs": [],
   "source": [
    "df['application_type']=le.fit_transform(df['application_type'])"
   ]
  },
  {
   "cell_type": "code",
   "execution_count": 172,
   "id": "53c4f3f3",
   "metadata": {},
   "outputs": [],
   "source": [
    "df['issue_d_month']=le.fit_transform(df['issue_d_month'])"
   ]
  },
  {
   "cell_type": "code",
   "execution_count": 173,
   "id": "7ff40030",
   "metadata": {},
   "outputs": [],
   "source": [
    "df['issue_d_date']=le.fit_transform(df['issue_d_date'])"
   ]
  },
  {
   "cell_type": "code",
   "execution_count": 174,
   "id": "bee1f691",
   "metadata": {},
   "outputs": [],
   "source": [
    "df['last_pymnt_d_month']=le.fit_transform(df['last_pymnt_d_month'])"
   ]
  },
  {
   "cell_type": "code",
   "execution_count": 175,
   "id": "77788fd2",
   "metadata": {},
   "outputs": [],
   "source": [
    "df['last_pymnt_d_date']=le.fit_transform(df['last_pymnt_d_date'])"
   ]
  },
  {
   "cell_type": "code",
   "execution_count": 176,
   "id": "e1ddb3c6",
   "metadata": {},
   "outputs": [],
   "source": [
    "df['last_credit_pull_d_month']=le.fit_transform(df['last_credit_pull_d_month'])"
   ]
  },
  {
   "cell_type": "code",
   "execution_count": 177,
   "id": "1c4ec795",
   "metadata": {},
   "outputs": [],
   "source": [
    "df['last_credit_pull_d_date']=le.fit_transform(df['last_credit_pull_d_date'])"
   ]
  },
  {
   "cell_type": "code",
   "execution_count": 178,
   "id": "9a9ed0cf",
   "metadata": {},
   "outputs": [
    {
     "data": {
      "text/html": [
       "<div>\n",
       "<style scoped>\n",
       "    .dataframe tbody tr th:only-of-type {\n",
       "        vertical-align: middle;\n",
       "    }\n",
       "\n",
       "    .dataframe tbody tr th {\n",
       "        vertical-align: top;\n",
       "    }\n",
       "\n",
       "    .dataframe thead th {\n",
       "        text-align: right;\n",
       "    }\n",
       "</style>\n",
       "<table border=\"1\" class=\"dataframe\">\n",
       "  <thead>\n",
       "    <tr style=\"text-align: right;\">\n",
       "      <th></th>\n",
       "      <th>loan_amnt</th>\n",
       "      <th>funded_amnt</th>\n",
       "      <th>funded_amnt_inv</th>\n",
       "      <th>term</th>\n",
       "      <th>installment</th>\n",
       "      <th>grade</th>\n",
       "      <th>emp_title</th>\n",
       "      <th>emp_length</th>\n",
       "      <th>home_ownership</th>\n",
       "      <th>annual_inc</th>\n",
       "      <th>...</th>\n",
       "      <th>chargeoff_within_12_mths</th>\n",
       "      <th>delinq_amnt</th>\n",
       "      <th>pub_rec_bankruptcies</th>\n",
       "      <th>tax_liens</th>\n",
       "      <th>issue_d_month</th>\n",
       "      <th>issue_d_date</th>\n",
       "      <th>last_pymnt_d_month</th>\n",
       "      <th>last_pymnt_d_date</th>\n",
       "      <th>last_credit_pull_d_month</th>\n",
       "      <th>last_credit_pull_d_date</th>\n",
       "    </tr>\n",
       "  </thead>\n",
       "  <tbody>\n",
       "    <tr>\n",
       "      <th>0</th>\n",
       "      <td>5000</td>\n",
       "      <td>5000</td>\n",
       "      <td>4975.0</td>\n",
       "      <td>0</td>\n",
       "      <td>162.87</td>\n",
       "      <td>1</td>\n",
       "      <td>22739</td>\n",
       "      <td>1</td>\n",
       "      <td>3</td>\n",
       "      <td>24000.0</td>\n",
       "      <td>...</td>\n",
       "      <td>0.0</td>\n",
       "      <td>0</td>\n",
       "      <td>0.0</td>\n",
       "      <td>0.0</td>\n",
       "      <td>2</td>\n",
       "      <td>4</td>\n",
       "      <td>4</td>\n",
       "      <td>7</td>\n",
       "      <td>8</td>\n",
       "      <td>9</td>\n",
       "    </tr>\n",
       "    <tr>\n",
       "      <th>1</th>\n",
       "      <td>2500</td>\n",
       "      <td>2500</td>\n",
       "      <td>2500.0</td>\n",
       "      <td>1</td>\n",
       "      <td>59.83</td>\n",
       "      <td>2</td>\n",
       "      <td>18629</td>\n",
       "      <td>10</td>\n",
       "      <td>3</td>\n",
       "      <td>30000.0</td>\n",
       "      <td>...</td>\n",
       "      <td>0.0</td>\n",
       "      <td>0</td>\n",
       "      <td>0.0</td>\n",
       "      <td>0.0</td>\n",
       "      <td>2</td>\n",
       "      <td>4</td>\n",
       "      <td>0</td>\n",
       "      <td>5</td>\n",
       "      <td>11</td>\n",
       "      <td>6</td>\n",
       "    </tr>\n",
       "    <tr>\n",
       "      <th>2</th>\n",
       "      <td>2400</td>\n",
       "      <td>2400</td>\n",
       "      <td>2400.0</td>\n",
       "      <td>0</td>\n",
       "      <td>84.33</td>\n",
       "      <td>2</td>\n",
       "      <td>22739</td>\n",
       "      <td>1</td>\n",
       "      <td>3</td>\n",
       "      <td>12252.0</td>\n",
       "      <td>...</td>\n",
       "      <td>0.0</td>\n",
       "      <td>0</td>\n",
       "      <td>0.0</td>\n",
       "      <td>0.0</td>\n",
       "      <td>2</td>\n",
       "      <td>4</td>\n",
       "      <td>6</td>\n",
       "      <td>6</td>\n",
       "      <td>8</td>\n",
       "      <td>9</td>\n",
       "    </tr>\n",
       "    <tr>\n",
       "      <th>3</th>\n",
       "      <td>10000</td>\n",
       "      <td>10000</td>\n",
       "      <td>10000.0</td>\n",
       "      <td>0</td>\n",
       "      <td>339.31</td>\n",
       "      <td>2</td>\n",
       "      <td>327</td>\n",
       "      <td>1</td>\n",
       "      <td>3</td>\n",
       "      <td>49200.0</td>\n",
       "      <td>...</td>\n",
       "      <td>0.0</td>\n",
       "      <td>0</td>\n",
       "      <td>0.0</td>\n",
       "      <td>0.0</td>\n",
       "      <td>2</td>\n",
       "      <td>4</td>\n",
       "      <td>4</td>\n",
       "      <td>7</td>\n",
       "      <td>0</td>\n",
       "      <td>9</td>\n",
       "    </tr>\n",
       "    <tr>\n",
       "      <th>4</th>\n",
       "      <td>3000</td>\n",
       "      <td>3000</td>\n",
       "      <td>3000.0</td>\n",
       "      <td>1</td>\n",
       "      <td>67.79</td>\n",
       "      <td>1</td>\n",
       "      <td>23219</td>\n",
       "      <td>0</td>\n",
       "      <td>3</td>\n",
       "      <td>80000.0</td>\n",
       "      <td>...</td>\n",
       "      <td>0.0</td>\n",
       "      <td>0</td>\n",
       "      <td>0.0</td>\n",
       "      <td>0.0</td>\n",
       "      <td>2</td>\n",
       "      <td>4</td>\n",
       "      <td>8</td>\n",
       "      <td>8</td>\n",
       "      <td>8</td>\n",
       "      <td>9</td>\n",
       "    </tr>\n",
       "  </tbody>\n",
       "</table>\n",
       "<p>5 rows × 47 columns</p>\n",
       "</div>"
      ],
      "text/plain": [
       "   loan_amnt  funded_amnt  funded_amnt_inv  term  installment  grade  \\\n",
       "0       5000         5000           4975.0     0       162.87      1   \n",
       "1       2500         2500           2500.0     1        59.83      2   \n",
       "2       2400         2400           2400.0     0        84.33      2   \n",
       "3      10000        10000          10000.0     0       339.31      2   \n",
       "4       3000         3000           3000.0     1        67.79      1   \n",
       "\n",
       "   emp_title  emp_length  home_ownership  annual_inc  ...  \\\n",
       "0      22739           1               3     24000.0  ...   \n",
       "1      18629          10               3     30000.0  ...   \n",
       "2      22739           1               3     12252.0  ...   \n",
       "3        327           1               3     49200.0  ...   \n",
       "4      23219           0               3     80000.0  ...   \n",
       "\n",
       "   chargeoff_within_12_mths  delinq_amnt  pub_rec_bankruptcies  tax_liens  \\\n",
       "0                       0.0            0                   0.0        0.0   \n",
       "1                       0.0            0                   0.0        0.0   \n",
       "2                       0.0            0                   0.0        0.0   \n",
       "3                       0.0            0                   0.0        0.0   \n",
       "4                       0.0            0                   0.0        0.0   \n",
       "\n",
       "   issue_d_month  issue_d_date  last_pymnt_d_month  last_pymnt_d_date  \\\n",
       "0              2             4                   4                  7   \n",
       "1              2             4                   0                  5   \n",
       "2              2             4                   6                  6   \n",
       "3              2             4                   4                  7   \n",
       "4              2             4                   8                  8   \n",
       "\n",
       "   last_credit_pull_d_month  last_credit_pull_d_date  \n",
       "0                         8                        9  \n",
       "1                        11                        6  \n",
       "2                         8                        9  \n",
       "3                         0                        9  \n",
       "4                         8                        9  \n",
       "\n",
       "[5 rows x 47 columns]"
      ]
     },
     "execution_count": 178,
     "metadata": {},
     "output_type": "execute_result"
    }
   ],
   "source": [
    "df.head()"
   ]
  },
  {
   "cell_type": "code",
   "execution_count": 179,
   "id": "80c0bd48",
   "metadata": {},
   "outputs": [
    {
     "data": {
      "text/plain": [
       "10000    2756\n",
       "12000    2298\n",
       "5000     1997\n",
       "6000     1877\n",
       "15000    1857\n",
       "         ... \n",
       "24650       1\n",
       "22950       1\n",
       "16675       1\n",
       "17375       1\n",
       "23575       1\n",
       "Name: loan_amnt, Length: 875, dtype: int64"
      ]
     },
     "execution_count": 179,
     "metadata": {},
     "output_type": "execute_result"
    }
   ],
   "source": [
    "df['loan_amnt'].value_counts()"
   ]
  },
  {
   "cell_type": "code",
   "execution_count": 180,
   "id": "817f6aa0",
   "metadata": {},
   "outputs": [],
   "source": [
    "X=df.drop(['loan_amnt'],axis=1)"
   ]
  },
  {
   "cell_type": "code",
   "execution_count": 181,
   "id": "c6eed6ac",
   "metadata": {},
   "outputs": [],
   "source": [
    "y=df['loan_amnt']"
   ]
  },
  {
   "cell_type": "code",
   "execution_count": 185,
   "id": "495892af",
   "metadata": {},
   "outputs": [],
   "source": [
    "from sklearn.model_selection import train_test_split"
   ]
  },
  {
   "cell_type": "code",
   "execution_count": 186,
   "id": "ea9500b1",
   "metadata": {},
   "outputs": [],
   "source": [
    "X_train,X_test,Y_train,Y_test=train_test_split(X,y,test_size=0.20,random_state=123)"
   ]
  },
  {
   "cell_type": "code",
   "execution_count": 187,
   "id": "56158ab4",
   "metadata": {},
   "outputs": [],
   "source": [
    "from sklearn.preprocessing import StandardScaler\n",
    "sc=StandardScaler()\n",
    "X_train=sc.fit_transform(X_train)\n",
    "X_test=sc.transform(X_test)"
   ]
  },
  {
   "cell_type": "code",
   "execution_count": 188,
   "id": "721d620a",
   "metadata": {},
   "outputs": [
    {
     "data": {
      "text/plain": [
       "RandomForestRegressor()"
      ]
     },
     "execution_count": 188,
     "metadata": {},
     "output_type": "execute_result"
    }
   ],
   "source": [
    "from sklearn.ensemble import RandomForestRegressor\n",
    "rf=RandomForestRegressor()\n",
    "rf.fit(X_train,Y_train)"
   ]
  },
  {
   "cell_type": "code",
   "execution_count": 189,
   "id": "d990a9b1",
   "metadata": {},
   "outputs": [],
   "source": [
    "y_pred=rf.predict(X_test)"
   ]
  },
  {
   "cell_type": "code",
   "execution_count": 190,
   "id": "80ed1b27",
   "metadata": {},
   "outputs": [
    {
     "data": {
      "text/plain": [
       "0.9963272732573127"
      ]
     },
     "execution_count": 190,
     "metadata": {},
     "output_type": "execute_result"
    }
   ],
   "source": [
    "rf.score(X_train,Y_train)"
   ]
  },
  {
   "cell_type": "code",
   "execution_count": 191,
   "id": "d1646ebd",
   "metadata": {},
   "outputs": [
    {
     "data": {
      "text/plain": [
       "0.9744575229820808"
      ]
     },
     "execution_count": 191,
     "metadata": {},
     "output_type": "execute_result"
    }
   ],
   "source": [
    "rf.score(X_test,Y_test)"
   ]
  },
  {
   "cell_type": "code",
   "execution_count": null,
   "id": "bafc38c8",
   "metadata": {},
   "outputs": [],
   "source": []
  }
 ],
 "metadata": {
  "kernelspec": {
   "display_name": "Python 3 (ipykernel)",
   "language": "python",
   "name": "python3"
  },
  "language_info": {
   "codemirror_mode": {
    "name": "ipython",
    "version": 3
   },
   "file_extension": ".py",
   "mimetype": "text/x-python",
   "name": "python",
   "nbconvert_exporter": "python",
   "pygments_lexer": "ipython3",
   "version": "3.9.13"
  }
 },
 "nbformat": 4,
 "nbformat_minor": 5
}
